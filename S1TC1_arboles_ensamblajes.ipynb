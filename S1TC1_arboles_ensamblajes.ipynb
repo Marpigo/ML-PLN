{
 "cells": [
  {
   "cell_type": "markdown",
   "metadata": {},
   "source": [
    "![image info](https://raw.githubusercontent.com/albahnsen/MIAD_ML_and_NLP/main/images/banner_1.png)"
   ]
  },
  {
   "cell_type": "markdown",
   "metadata": {},
   "source": [
    "# Taller: Construcción e implementación de árboles de decisión y métodos de ensamblaje\n",
    "\n",
    "En este taller podrá poner en práctica los sus conocimientos sobre construcción e implementación de árboles de decisión y métodos de ensamblajes. El taller está constituido por 9 puntos, 5 relacionados con árboles de decisión (parte A) y 4 con métodos de ensamblaje (parte B)."
   ]
  },
  {
   "cell_type": "markdown",
   "metadata": {},
   "source": [
    "## Parte A - Árboles de decisión\n",
    "\n",
    "En esta parte del taller se usará el conjunto de datos de Capital Bikeshare de Kaggle, donde cada observación representa el alquiler de bicicletas durante una hora y día determinado. Para más detalles puede visitar los siguientes enlaces: [datos](https://archive.ics.uci.edu/ml/machine-learning-databases/00275/Bike-Sharing-Dataset.zip), [dicccionario de datos](https://archive.ics.uci.edu/ml/datasets/Bike+Sharing+Dataset#)."
   ]
  },
  {
   "cell_type": "markdown",
   "metadata": {},
   "source": [
    "### Datos prestamo de bicicletas"
   ]
  },
  {
   "cell_type": "code",
   "execution_count": 2,
   "metadata": {},
   "outputs": [],
   "source": [
    "import warnings\n",
    "warnings.filterwarnings('ignore')"
   ]
  },
  {
   "cell_type": "code",
   "execution_count": 3,
   "metadata": {},
   "outputs": [],
   "source": [
    "# Importación de librerías\n",
    "%matplotlib inline\n",
    "import pandas as pd\n",
    "import numpy as np\n",
    "from sklearn.model_selection import cross_val_score\n",
    "from sklearn.linear_model import LinearRegression\n",
    "from sklearn.tree import DecisionTreeRegressor, export_graphviz\n",
    "import seaborn as sns\n",
    "import matplotlib.pyplot as plt\n",
    "from sklearn.model_selection import train_test_split"
   ]
  },
  {
   "cell_type": "code",
   "execution_count": 15,
   "metadata": {
    "scrolled": false
   },
   "outputs": [
    {
     "data": {
      "text/html": [
       "<div>\n",
       "<style scoped>\n",
       "    .dataframe tbody tr th:only-of-type {\n",
       "        vertical-align: middle;\n",
       "    }\n",
       "\n",
       "    .dataframe tbody tr th {\n",
       "        vertical-align: top;\n",
       "    }\n",
       "\n",
       "    .dataframe thead th {\n",
       "        text-align: right;\n",
       "    }\n",
       "</style>\n",
       "<table border=\"1\" class=\"dataframe\">\n",
       "  <thead>\n",
       "    <tr style=\"text-align: right;\">\n",
       "      <th></th>\n",
       "      <th>season</th>\n",
       "      <th>holiday</th>\n",
       "      <th>workingday</th>\n",
       "      <th>weather</th>\n",
       "      <th>temp</th>\n",
       "      <th>atemp</th>\n",
       "      <th>humidity</th>\n",
       "      <th>windspeed</th>\n",
       "      <th>casual</th>\n",
       "      <th>registered</th>\n",
       "      <th>total</th>\n",
       "      <th>hour</th>\n",
       "    </tr>\n",
       "    <tr>\n",
       "      <th>datetime</th>\n",
       "      <th></th>\n",
       "      <th></th>\n",
       "      <th></th>\n",
       "      <th></th>\n",
       "      <th></th>\n",
       "      <th></th>\n",
       "      <th></th>\n",
       "      <th></th>\n",
       "      <th></th>\n",
       "      <th></th>\n",
       "      <th></th>\n",
       "      <th></th>\n",
       "    </tr>\n",
       "  </thead>\n",
       "  <tbody>\n",
       "    <tr>\n",
       "      <th>2011-01-01 00:00:00</th>\n",
       "      <td>1</td>\n",
       "      <td>0</td>\n",
       "      <td>0</td>\n",
       "      <td>1</td>\n",
       "      <td>9.84</td>\n",
       "      <td>14.395</td>\n",
       "      <td>81</td>\n",
       "      <td>0.0</td>\n",
       "      <td>3</td>\n",
       "      <td>13</td>\n",
       "      <td>16</td>\n",
       "      <td>0</td>\n",
       "    </tr>\n",
       "    <tr>\n",
       "      <th>2011-01-01 01:00:00</th>\n",
       "      <td>1</td>\n",
       "      <td>0</td>\n",
       "      <td>0</td>\n",
       "      <td>1</td>\n",
       "      <td>9.02</td>\n",
       "      <td>13.635</td>\n",
       "      <td>80</td>\n",
       "      <td>0.0</td>\n",
       "      <td>8</td>\n",
       "      <td>32</td>\n",
       "      <td>40</td>\n",
       "      <td>1</td>\n",
       "    </tr>\n",
       "    <tr>\n",
       "      <th>2011-01-01 02:00:00</th>\n",
       "      <td>1</td>\n",
       "      <td>0</td>\n",
       "      <td>0</td>\n",
       "      <td>1</td>\n",
       "      <td>9.02</td>\n",
       "      <td>13.635</td>\n",
       "      <td>80</td>\n",
       "      <td>0.0</td>\n",
       "      <td>5</td>\n",
       "      <td>27</td>\n",
       "      <td>32</td>\n",
       "      <td>2</td>\n",
       "    </tr>\n",
       "    <tr>\n",
       "      <th>2011-01-01 03:00:00</th>\n",
       "      <td>1</td>\n",
       "      <td>0</td>\n",
       "      <td>0</td>\n",
       "      <td>1</td>\n",
       "      <td>9.84</td>\n",
       "      <td>14.395</td>\n",
       "      <td>75</td>\n",
       "      <td>0.0</td>\n",
       "      <td>3</td>\n",
       "      <td>10</td>\n",
       "      <td>13</td>\n",
       "      <td>3</td>\n",
       "    </tr>\n",
       "    <tr>\n",
       "      <th>2011-01-01 04:00:00</th>\n",
       "      <td>1</td>\n",
       "      <td>0</td>\n",
       "      <td>0</td>\n",
       "      <td>1</td>\n",
       "      <td>9.84</td>\n",
       "      <td>14.395</td>\n",
       "      <td>75</td>\n",
       "      <td>0.0</td>\n",
       "      <td>0</td>\n",
       "      <td>1</td>\n",
       "      <td>1</td>\n",
       "      <td>4</td>\n",
       "    </tr>\n",
       "  </tbody>\n",
       "</table>\n",
       "</div>"
      ],
      "text/plain": [
       "                     season  holiday  workingday  weather  temp   atemp  \\\n",
       "datetime                                                                  \n",
       "2011-01-01 00:00:00       1        0           0        1  9.84  14.395   \n",
       "2011-01-01 01:00:00       1        0           0        1  9.02  13.635   \n",
       "2011-01-01 02:00:00       1        0           0        1  9.02  13.635   \n",
       "2011-01-01 03:00:00       1        0           0        1  9.84  14.395   \n",
       "2011-01-01 04:00:00       1        0           0        1  9.84  14.395   \n",
       "\n",
       "                     humidity  windspeed  casual  registered  total  hour  \n",
       "datetime                                                                   \n",
       "2011-01-01 00:00:00        81        0.0       3          13     16     0  \n",
       "2011-01-01 01:00:00        80        0.0       8          32     40     1  \n",
       "2011-01-01 02:00:00        80        0.0       5          27     32     2  \n",
       "2011-01-01 03:00:00        75        0.0       3          10     13     3  \n",
       "2011-01-01 04:00:00        75        0.0       0           1      1     4  "
      ]
     },
     "execution_count": 15,
     "metadata": {},
     "output_type": "execute_result"
    }
   ],
   "source": [
    "# Lectura de la información de archivo .csv\n",
    "bikes = pd.read_csv('https://raw.githubusercontent.com/davidzarruk/MIAD_ML_NLP_2023/main/datasets/bikeshare.csv', index_col='datetime', parse_dates=True)\n",
    "\n",
    "# Renombrar variable \"count\" a \"total\"\n",
    "bikes.rename(columns={'count':'total'}, inplace=True)\n",
    "\n",
    "# Crear la hora como una variable \n",
    "bikes['hour'] = bikes.index.hour\n",
    "\n",
    "# Visualización de los datos\n",
    "bikes.head()"
   ]
  },
  {
   "cell_type": "markdown",
   "metadata": {},
   "source": [
    "### Punto 1 - Análisis descriptivo\n"
   ]
  },
  {
   "cell_type": "code",
   "execution_count": 4,
   "metadata": {
    "scrolled": true
   },
   "outputs": [
    {
     "data": {
      "text/plain": [
       "season          int64\n",
       "holiday         int64\n",
       "workingday      int64\n",
       "weather         int64\n",
       "temp          float64\n",
       "atemp         float64\n",
       "humidity        int64\n",
       "windspeed     float64\n",
       "casual          int64\n",
       "registered      int64\n",
       "total           int64\n",
       "hour            int64\n",
       "dtype: object"
      ]
     },
     "execution_count": 4,
     "metadata": {},
     "output_type": "execute_result"
    }
   ],
   "source": [
    "bikes.dtypes"
   ]
  },
  {
   "cell_type": "code",
   "execution_count": 5,
   "metadata": {},
   "outputs": [
    {
     "data": {
      "text/plain": [
       "(10886, 12)"
      ]
     },
     "execution_count": 5,
     "metadata": {},
     "output_type": "execute_result"
    }
   ],
   "source": [
    "bikes.shape"
   ]
  },
  {
   "cell_type": "code",
   "execution_count": 6,
   "metadata": {
    "scrolled": false
   },
   "outputs": [
    {
     "data": {
      "text/html": [
       "<div>\n",
       "<style scoped>\n",
       "    .dataframe tbody tr th:only-of-type {\n",
       "        vertical-align: middle;\n",
       "    }\n",
       "\n",
       "    .dataframe tbody tr th {\n",
       "        vertical-align: top;\n",
       "    }\n",
       "\n",
       "    .dataframe thead th {\n",
       "        text-align: right;\n",
       "    }\n",
       "</style>\n",
       "<table border=\"1\" class=\"dataframe\">\n",
       "  <thead>\n",
       "    <tr style=\"text-align: right;\">\n",
       "      <th></th>\n",
       "      <th>season</th>\n",
       "      <th>holiday</th>\n",
       "      <th>workingday</th>\n",
       "      <th>weather</th>\n",
       "      <th>temp</th>\n",
       "      <th>atemp</th>\n",
       "      <th>humidity</th>\n",
       "      <th>windspeed</th>\n",
       "      <th>casual</th>\n",
       "      <th>registered</th>\n",
       "      <th>total</th>\n",
       "      <th>hour</th>\n",
       "    </tr>\n",
       "  </thead>\n",
       "  <tbody>\n",
       "    <tr>\n",
       "      <th>count</th>\n",
       "      <td>10886.000000</td>\n",
       "      <td>10886.000000</td>\n",
       "      <td>10886.000000</td>\n",
       "      <td>10886.000000</td>\n",
       "      <td>10886.00000</td>\n",
       "      <td>10886.000000</td>\n",
       "      <td>10886.000000</td>\n",
       "      <td>10886.000000</td>\n",
       "      <td>10886.000000</td>\n",
       "      <td>10886.000000</td>\n",
       "      <td>10886.000000</td>\n",
       "      <td>10886.000000</td>\n",
       "    </tr>\n",
       "    <tr>\n",
       "      <th>mean</th>\n",
       "      <td>2.506614</td>\n",
       "      <td>0.028569</td>\n",
       "      <td>0.680875</td>\n",
       "      <td>1.418427</td>\n",
       "      <td>20.23086</td>\n",
       "      <td>23.655084</td>\n",
       "      <td>61.886460</td>\n",
       "      <td>12.799395</td>\n",
       "      <td>36.021955</td>\n",
       "      <td>155.552177</td>\n",
       "      <td>191.574132</td>\n",
       "      <td>11.541613</td>\n",
       "    </tr>\n",
       "    <tr>\n",
       "      <th>std</th>\n",
       "      <td>1.116174</td>\n",
       "      <td>0.166599</td>\n",
       "      <td>0.466159</td>\n",
       "      <td>0.633839</td>\n",
       "      <td>7.79159</td>\n",
       "      <td>8.474601</td>\n",
       "      <td>19.245033</td>\n",
       "      <td>8.164537</td>\n",
       "      <td>49.960477</td>\n",
       "      <td>151.039033</td>\n",
       "      <td>181.144454</td>\n",
       "      <td>6.915838</td>\n",
       "    </tr>\n",
       "    <tr>\n",
       "      <th>min</th>\n",
       "      <td>1.000000</td>\n",
       "      <td>0.000000</td>\n",
       "      <td>0.000000</td>\n",
       "      <td>1.000000</td>\n",
       "      <td>0.82000</td>\n",
       "      <td>0.760000</td>\n",
       "      <td>0.000000</td>\n",
       "      <td>0.000000</td>\n",
       "      <td>0.000000</td>\n",
       "      <td>0.000000</td>\n",
       "      <td>1.000000</td>\n",
       "      <td>0.000000</td>\n",
       "    </tr>\n",
       "    <tr>\n",
       "      <th>25%</th>\n",
       "      <td>2.000000</td>\n",
       "      <td>0.000000</td>\n",
       "      <td>0.000000</td>\n",
       "      <td>1.000000</td>\n",
       "      <td>13.94000</td>\n",
       "      <td>16.665000</td>\n",
       "      <td>47.000000</td>\n",
       "      <td>7.001500</td>\n",
       "      <td>4.000000</td>\n",
       "      <td>36.000000</td>\n",
       "      <td>42.000000</td>\n",
       "      <td>6.000000</td>\n",
       "    </tr>\n",
       "    <tr>\n",
       "      <th>50%</th>\n",
       "      <td>3.000000</td>\n",
       "      <td>0.000000</td>\n",
       "      <td>1.000000</td>\n",
       "      <td>1.000000</td>\n",
       "      <td>20.50000</td>\n",
       "      <td>24.240000</td>\n",
       "      <td>62.000000</td>\n",
       "      <td>12.998000</td>\n",
       "      <td>17.000000</td>\n",
       "      <td>118.000000</td>\n",
       "      <td>145.000000</td>\n",
       "      <td>12.000000</td>\n",
       "    </tr>\n",
       "    <tr>\n",
       "      <th>75%</th>\n",
       "      <td>4.000000</td>\n",
       "      <td>0.000000</td>\n",
       "      <td>1.000000</td>\n",
       "      <td>2.000000</td>\n",
       "      <td>26.24000</td>\n",
       "      <td>31.060000</td>\n",
       "      <td>77.000000</td>\n",
       "      <td>16.997900</td>\n",
       "      <td>49.000000</td>\n",
       "      <td>222.000000</td>\n",
       "      <td>284.000000</td>\n",
       "      <td>18.000000</td>\n",
       "    </tr>\n",
       "    <tr>\n",
       "      <th>max</th>\n",
       "      <td>4.000000</td>\n",
       "      <td>1.000000</td>\n",
       "      <td>1.000000</td>\n",
       "      <td>4.000000</td>\n",
       "      <td>41.00000</td>\n",
       "      <td>45.455000</td>\n",
       "      <td>100.000000</td>\n",
       "      <td>56.996900</td>\n",
       "      <td>367.000000</td>\n",
       "      <td>886.000000</td>\n",
       "      <td>977.000000</td>\n",
       "      <td>23.000000</td>\n",
       "    </tr>\n",
       "  </tbody>\n",
       "</table>\n",
       "</div>"
      ],
      "text/plain": [
       "             season       holiday    workingday       weather         temp  \\\n",
       "count  10886.000000  10886.000000  10886.000000  10886.000000  10886.00000   \n",
       "mean       2.506614      0.028569      0.680875      1.418427     20.23086   \n",
       "std        1.116174      0.166599      0.466159      0.633839      7.79159   \n",
       "min        1.000000      0.000000      0.000000      1.000000      0.82000   \n",
       "25%        2.000000      0.000000      0.000000      1.000000     13.94000   \n",
       "50%        3.000000      0.000000      1.000000      1.000000     20.50000   \n",
       "75%        4.000000      0.000000      1.000000      2.000000     26.24000   \n",
       "max        4.000000      1.000000      1.000000      4.000000     41.00000   \n",
       "\n",
       "              atemp      humidity     windspeed        casual    registered  \\\n",
       "count  10886.000000  10886.000000  10886.000000  10886.000000  10886.000000   \n",
       "mean      23.655084     61.886460     12.799395     36.021955    155.552177   \n",
       "std        8.474601     19.245033      8.164537     49.960477    151.039033   \n",
       "min        0.760000      0.000000      0.000000      0.000000      0.000000   \n",
       "25%       16.665000     47.000000      7.001500      4.000000     36.000000   \n",
       "50%       24.240000     62.000000     12.998000     17.000000    118.000000   \n",
       "75%       31.060000     77.000000     16.997900     49.000000    222.000000   \n",
       "max       45.455000    100.000000     56.996900    367.000000    886.000000   \n",
       "\n",
       "              total          hour  \n",
       "count  10886.000000  10886.000000  \n",
       "mean     191.574132     11.541613  \n",
       "std      181.144454      6.915838  \n",
       "min        1.000000      0.000000  \n",
       "25%       42.000000      6.000000  \n",
       "50%      145.000000     12.000000  \n",
       "75%      284.000000     18.000000  \n",
       "max      977.000000     23.000000  "
      ]
     },
     "execution_count": 6,
     "metadata": {},
     "output_type": "execute_result"
    }
   ],
   "source": [
    "bikes.describe()"
   ]
  },
  {
   "cell_type": "code",
   "execution_count": 7,
   "metadata": {
    "scrolled": false
   },
   "outputs": [
    {
     "data": {
      "image/png": "[encoded data removed]",
      "text/plain": [
       "<Figure size 2500x1500 with 2 Axes>"
      ]
     },
     "metadata": {},
     "output_type": "display_data"
    }
   ],
   "source": [
    "MatrixCorrelacion=bikes.corr()\n",
    "fig, ax=plt.subplots(figsize=(25,15))\n",
    "sns.heatmap(MatrixCorrelacion,annot=True);\n",
    "plt.show()"
   ]
  },
  {
   "cell_type": "code",
   "execution_count": 8,
   "metadata": {
    "scrolled": true
   },
   "outputs": [
    {
     "data": {
      "text/plain": [
       "season        0.0\n",
       "holiday       0.0\n",
       "workingday    0.0\n",
       "weather       0.0\n",
       "temp          0.0\n",
       "atemp         0.0\n",
       "humidity      0.0\n",
       "windspeed     0.0\n",
       "casual        0.0\n",
       "registered    0.0\n",
       "total         0.0\n",
       "hour          0.0\n",
       "dtype: float64"
      ]
     },
     "execution_count": 8,
     "metadata": {},
     "output_type": "execute_result"
    }
   ],
   "source": [
    "bikes.isnull().mean()*100"
   ]
  },
  {
   "cell_type": "code",
   "execution_count": 9,
   "metadata": {},
   "outputs": [
    {
     "data": {
      "image/png": "[encoded data removed]",
      "text/plain": [
       "<Figure size 640x480 with 1 Axes>"
      ]
     },
     "metadata": {},
     "output_type": "display_data"
    }
   ],
   "source": [
    "plt.hist(bikes['total'], density=True, color='cornflowerblue', edgecolor='white', alpha=0.7)\n",
    "plt.xlabel('Total')\n",
    "plt.ylabel('Frecuencia')\n",
    "plt.title('Recuento del total de bicicletas alquiladas')\n",
    "plt.show()"
   ]
  },
  {
   "cell_type": "markdown",
   "metadata": {},
   "source": [
    "Ejecute las celdas 1.1 y 1.2. A partir de los resultados realice un análisis descriptivo sobre las variables \"season\" y \"hour\", escriba sus inferencias sobre los datos. Para complementar su análisis puede usar métricas como máximo, mínimo, percentiles entre otros."
   ]
  },
  {
   "cell_type": "code",
   "execution_count": 10,
   "metadata": {
    "scrolled": true
   },
   "outputs": [
    {
     "data": {
      "text/plain": [
       "season\n",
       "1    116.343261\n",
       "2    215.251372\n",
       "3    234.417124\n",
       "4    198.988296\n",
       "Name: total, dtype: float64"
      ]
     },
     "execution_count": 10,
     "metadata": {},
     "output_type": "execute_result"
    }
   ],
   "source": [
    "# Celda 1.1\n",
    "bikes.groupby('season').total.mean()"
   ]
  },
  {
   "cell_type": "markdown",
   "metadata": {},
   "source": [
    "- Las estaciones que cuentan con un mayor número de alquileres con verano y primavera, que es lo esperado\n",
    "- Las estaciones más frias y lluviosas repercuten negativa y directamente en el alquiler de las bicicletas\n",
    "- Las bicicletas alquiladas en verano son el doble de las rentadas en invierno"
   ]
  },
  {
   "cell_type": "code",
   "execution_count": 11,
   "metadata": {
    "scrolled": false
   },
   "outputs": [
    {
     "data": {
      "text/plain": [
       "hour\n",
       "0      55.138462\n",
       "1      33.859031\n",
       "2      22.899554\n",
       "3      11.757506\n",
       "4       6.407240\n",
       "5      19.767699\n",
       "6      76.259341\n",
       "7     213.116484\n",
       "8     362.769231\n",
       "9     221.780220\n",
       "10    175.092308\n",
       "11    210.674725\n",
       "12    256.508772\n",
       "13    257.787281\n",
       "14    243.442982\n",
       "15    254.298246\n",
       "16    316.372807\n",
       "17    468.765351\n",
       "18    430.859649\n",
       "19    315.278509\n",
       "20    228.517544\n",
       "21    173.370614\n",
       "22    133.576754\n",
       "23     89.508772\n",
       "Name: total, dtype: float64"
      ]
     },
     "execution_count": 11,
     "metadata": {},
     "output_type": "execute_result"
    }
   ],
   "source": [
    "# Celda 1.2\n",
    "bikes.groupby('hour').total.mean()"
   ]
  },
  {
   "cell_type": "markdown",
   "metadata": {},
   "source": [
    "- La hora con menos cantidad de bicicletas alquiladas es la comprendida entre las 3 am y las 4 am, siendo 6 la media.\n",
    "- Las horas de la madrugada tienen una menor demanda de bicicletas como era de esperar.\n",
    "- Las horas con mayor demanda son las comprendidas entre las 4 de la tarde y las 6 de la noche.\n",
    "- La hora de la mañana con mayor número de alquileres es entre las 7 y 8 am.\n",
    "- El comportamiento es similar a los diferentes sistemas de transporte público con respecto a las horas pico."
   ]
  },
  {
   "cell_type": "markdown",
   "metadata": {},
   "source": [
    "### Punto 2 - Análisis de gráficos\n",
    "\n",
    "Primero ejecute la celda 2.1 y asegúrese de comprender el código y el resultado. Luego, en cada una de celdas 2.2 y 2.3 escriba un código que genere una gráfica del número de bicicletas rentadas promedio para cada valor de la variable \"hour\" (hora) cuando la variable \"season\" es igual a 1 (invierno) e igual a 3 (verano), respectivamente. Analice y escriba sus hallazgos."
   ]
  },
  {
   "cell_type": "code",
   "execution_count": 12,
   "metadata": {},
   "outputs": [
    {
     "data": {
      "text/plain": [
       "<AxesSubplot: xlabel='hour'>"
      ]
     },
     "execution_count": 12,
     "metadata": {},
     "output_type": "execute_result"
    },
    {
     "data": {
      "image/png": "[encoded data removed]",
      "text/plain": [
       "<Figure size 640x480 with 1 Axes>"
      ]
     },
     "metadata": {},
     "output_type": "display_data"
    }
   ],
   "source": [
    "# Celda 2.1 - rentas promedio para cada valor de la variable \"hour\"\n",
    "bikes.groupby('hour').total.mean().plot()"
   ]
  },
  {
   "cell_type": "code",
   "execution_count": 13,
   "metadata": {
    "scrolled": false
   },
   "outputs": [
    {
     "data": {
      "text/plain": [
       "<AxesSubplot: xlabel='hour'>"
      ]
     },
     "execution_count": 13,
     "metadata": {},
     "output_type": "execute_result"
    },
    {
     "data": {
      "image/png": "[encoded data removed]",
      "text/plain": [
       "<Figure size 640x480 with 1 Axes>"
      ]
     },
     "metadata": {},
     "output_type": "display_data"
    }
   ],
   "source": [
    "# Celda 2.2 - \"season\"=1 escriba su código y hallazgos \n",
    "invierno = bikes.query('season == 1')\n",
    "invierno.groupby('hour').total.mean().plot()"
   ]
  },
  {
   "cell_type": "markdown",
   "metadata": {},
   "source": [
    "El alquiler de bicicletas en la estación de invierno tiene un comportamiento muy cercano al de la gráfica de todas las estaciones, la única diferencia significativa que se puede apreciar en la gráfica es la disminucíon de la cantidad de alquileres.\n"
   ]
  },
  {
   "cell_type": "code",
   "execution_count": 14,
   "metadata": {
    "scrolled": false
   },
   "outputs": [
    {
     "data": {
      "text/plain": [
       "<AxesSubplot: xlabel='hour'>"
      ]
     },
     "execution_count": 14,
     "metadata": {},
     "output_type": "execute_result"
    },
    {
     "data": {
      "image/png": "[encoded data removed]",
      "text/plain": [
       "<Figure size 640x480 with 1 Axes>"
      ]
     },
     "metadata": {},
     "output_type": "display_data"
    }
   ],
   "source": [
    "# Celda 2.3 - \"season\"=3 escriba su código y hallazgos \n",
    "verano = bikes.query('season == 3')\n",
    "verano.groupby('hour').total.mean().plot()"
   ]
  },
  {
   "cell_type": "markdown",
   "metadata": {},
   "source": [
    "El alquiler de bicicletas en la estación de verano también tiene un comportamiento muy cercano al de todas anteriores, la  diferencia que se puede apreciar en la gráfica es aumnento de la cantidad de alquileres ya que es la estación con el mejor clima y por ende la de mayor cantidad de rentas por hora."
   ]
  },
  {
   "cell_type": "markdown",
   "metadata": {},
   "source": [
    "### Punto 3 - Regresión lineal\n",
    "En la celda 3 ajuste un modelo de regresión lineal a todo el conjunto de datos, utilizando \"total\" como variable de respuesta y \"season\" y \"hour\" como las únicas variables predictoras, teniendo en cuenta que la variable \"season\" es categórica. Luego, imprima los coeficientes e interprételos. ¿Cuáles son las limitaciones de la regresión lineal en este caso?"
   ]
  },
  {
   "cell_type": "code",
   "execution_count": 16,
   "metadata": {},
   "outputs": [],
   "source": [
    "# Celda 3\n",
    "bikes['season'] = pd.factorize(bikes.season)[0]"
   ]
  },
  {
   "cell_type": "code",
   "execution_count": 17,
   "metadata": {
    "scrolled": true
   },
   "outputs": [],
   "source": [
    "feature_cols = [0,11]\n",
    "X = bikes[bikes.columns[feature_cols]]\n",
    "y = bikes['total']\n",
    "XTrain, XTest, yTrain, yTest = train_test_split(X, y, test_size=0.33, random_state=0)"
   ]
  },
  {
   "cell_type": "code",
   "execution_count": 18,
   "metadata": {
    "scrolled": true
   },
   "outputs": [
    {
     "name": "stdout",
     "output_type": "stream",
     "text": [
      "Coeficientes: \n",
      " [28.03619568 10.57944293]\n",
      "MSE: 26895.62\n",
      "R cuadrado: 0.18\n"
     ]
    }
   ],
   "source": [
    "from sklearn.linear_model import LinearRegression\n",
    "from sklearn.metrics import mean_squared_error, r2_score\n",
    "\n",
    "lr = LinearRegression()\n",
    "lr.fit(XTrain, yTrain)\n",
    "\n",
    "y_pred = lr.predict(XTest)\n",
    "# Coeficientes\n",
    "print(\"Coeficientes: \\n\", lr.coef_)\n",
    "# MSE\n",
    "print(\"MSE: %.2f\" % mean_squared_error(yTest, y_pred))\n",
    "# R cuadrado\n",
    "print(\"R cuadrado: %.2f\" % r2_score(yTest, y_pred))\n"
   ]
  },
  {
   "cell_type": "markdown",
   "metadata": {},
   "source": [
    "Como se visualizaron los datos en las gráficas anteriores una regresión linel tiene una gran limitación para ajustarse en este caso, debería ser de un grado alto para que se logre ajustar medianamente al comportamiento de la variable objetivo; este modelo presenta poca flexibilidad y alta varianza."
   ]
  },
  {
   "cell_type": "markdown",
   "metadata": {},
   "source": [
    "### Punto 4 - Árbol de decisión manual\n",
    "En la celda 4 cree un árbol de decisiones para pronosticar la variable \"total\" iterando **manualmente** sobre las variables \"hour\" y  \"season\". El árbol debe tener al menos 6 nodos finales."
   ]
  },
  {
   "cell_type": "code",
   "execution_count": 46,
   "metadata": {},
   "outputs": [],
   "source": [
    "# Definición de la función best_split para calcular cuál es la mejor variable y punto de cortepara hacer la bifurcación del árbol\n",
    "def best_split(X, y, num_pct=10):\n",
    "    \n",
    "    features = range(X.shape[1])\n",
    "    \n",
    "    best_split = [0, 0, 0]  # j, split, gain\n",
    "    \n",
    "    # Para todas las varibles \n",
    "    for j in features:\n",
    "        \n",
    "        splits = np.percentile(X.iloc[:, j], np.arange(0, 100, 100.0 / (num_pct+1)).tolist())\n",
    "        splits = np.unique(splits)[1:]\n",
    "        \n",
    "        # Para cada partición\n",
    "        for split in splits:\n",
    "            gain = gini_impurity(X.iloc[:, j], y, split)\n",
    "                        \n",
    "            if gain > best_split[2]:\n",
    "                best_split = [j, split, gain]\n",
    "    \n",
    "    return best_split\n",
    "\n",
    "# Definición de la función gini_imputiry para calular la ganancia de una variable predictora j dado el punto de corte k\n",
    "def gini_impurity(X_col, y, split):\n",
    "    \n",
    "    filter_l = X_col < split\n",
    "    y_l = y.loc[filter_l]\n",
    "    y_r = y.loc[~filter_l]\n",
    "    \n",
    "    n_l = y_l.shape[0]\n",
    "    n_r = y_r.shape[0]\n",
    "    \n",
    "    gini_y = gini(y)\n",
    "    gini_l = gini(y_l)\n",
    "    gini_r = gini(y_r)\n",
    "    \n",
    "    gini_impurity_ = gini_y - (n_l / (n_l + n_r) * gini_l + n_r / (n_l + n_r) * gini_r)\n",
    "    \n",
    "    return gini_impurity_\n",
    "\n",
    "# Definición de la función que calcula el gini index\n",
    "def gini(y):\n",
    "    if y.shape[0] == 0:\n",
    "        return 0\n",
    "    else:\n",
    "        return 1 - (y.mean()**2 + (1 - y.mean())**2)"
   ]
  },
  {
   "cell_type": "code",
   "execution_count": 47,
   "metadata": {},
   "outputs": [],
   "source": [
    "# Celda 4\n",
    "# Definición de la función tree_grow para hacer un crecimiento recursivo del árbol\n",
    "def tree_grow(X, y, level=0, min_gain=0.001, max_depth=None, num_pct=10):\n",
    "    \n",
    "    # Si solo es una observación\n",
    "    if X.shape[0] == 1:\n",
    "        tree = dict(y_pred=y.iloc[:1].values[0], y_prob=0.5, level=level, split=-1, n_samples=1, gain=0)\n",
    "        return tree\n",
    "    \n",
    "    # Calcular la mejor división\n",
    "    j, split, gain = best_split(X, y, num_pct)\n",
    "    \n",
    "    # Guardar el árbol y estimar la predicción\n",
    "    y_pred = y.mean() \n",
    "    y_prob = (y.sum() + 1.0) / (y.shape[0] + 2.0)  # Corrección Laplace \n",
    "    \n",
    "    tree = dict(y_pred=y_pred, y_prob=y_prob, level=level, split=-1, n_samples=X.shape[0], gain=gain)\n",
    "    # Revisar el criterio de parada \n",
    "    if gain < min_gain:\n",
    "        return tree\n",
    "    if max_depth is not None:\n",
    "        if level >= max_depth:\n",
    "            return tree   \n",
    "    \n",
    "    # Continuar creando la partición\n",
    "    filter_l = X.iloc[:, j] < split\n",
    "    X_l, y_l = X.loc[filter_l], y.loc[filter_l]\n",
    "    X_r, y_r = X.loc[~filter_l], y.loc[~filter_l]\n",
    "    tree['split'] = [j, split]\n",
    "\n",
    "    # Siguiente iteración para cada partición\n",
    "    \n",
    "    tree['sl'] = tree_grow(X_l, y_l, level + 1, min_gain=min_gain, max_depth=max_depth, num_pct=num_pct)\n",
    "    tree['sr'] = tree_grow(X_r, y_r, level + 1, min_gain=min_gain, max_depth=max_depth, num_pct=num_pct)\n",
    "    \n",
    "    return tree"
   ]
  },
  {
   "cell_type": "code",
   "execution_count": 48,
   "metadata": {},
   "outputs": [
    {
     "data": {
      "text/plain": [
       "{'y_pred': 191.57413191254824,\n",
       " 'y_prob': 191.53903379867745,\n",
       " 'level': 0,\n",
       " 'split': [1, 8.0],\n",
       " 'n_samples': 10886,\n",
       " 'gain': 18268.811823533004,\n",
       " 'sl': {'y_pred': 55.437673900946024,\n",
       "  'y_prob': 55.40711902113459,\n",
       "  'level': 1,\n",
       "  'split': [1, 7.0],\n",
       "  'n_samples': 3594,\n",
       "  'gain': 7207.700659959655,\n",
       "  'sl': {'y_pred': 32.58203249442498,\n",
       "   'y_prob': 32.561604584527224,\n",
       "   'level': 2,\n",
       "   'split': [1, 6.0],\n",
       "   'n_samples': 3139,\n",
       "   'gain': 646.8008927589567,\n",
       "   'sl': {'y_pred': 25.177719821162444,\n",
       "    'y_prob': 25.15934475055845,\n",
       "    'level': 3,\n",
       "    'split': -1,\n",
       "    'n_samples': 2684,\n",
       "    'gain': 382.8088308604629},\n",
       "   'sr': {'y_pred': 76.25934065934067,\n",
       "    'y_prob': 75.92778993435448,\n",
       "    'level': 3,\n",
       "    'split': -1,\n",
       "    'n_samples': 455,\n",
       "    'gain': 743.095592335012}},\n",
       "  'sr': {'y_pred': 213.11648351648353,\n",
       "   'y_prob': 212.18599562363238,\n",
       "   'level': 2,\n",
       "   'split': [0, 1.0],\n",
       "   'n_samples': 455,\n",
       "   'gain': 5197.1071057533845,\n",
       "   'sl': {'y_pred': 124.43362831858407,\n",
       "    'y_prob': 122.27826086956522,\n",
       "    'level': 3,\n",
       "    'split': -1,\n",
       "    'n_samples': 113,\n",
       "    'gain': 0},\n",
       "   'sr': {'y_pred': 242.41812865497076,\n",
       "    'y_prob': 241.01162790697674,\n",
       "    'level': 3,\n",
       "    'split': -1,\n",
       "    'n_samples': 342,\n",
       "    'gain': 131.37717588317173}}},\n",
       " 'sr': {'y_pred': 258.6715578716402,\n",
       "  'y_prob': 258.6007677543186,\n",
       "  'level': 1,\n",
       "  'split': [1, 21.0],\n",
       "  'n_samples': 7292,\n",
       "  'gain': 7392.920792160614,\n",
       "  'sl': {'y_pred': 287.88808237677245,\n",
       "   'y_prob': 287.7910901113736,\n",
       "   'level': 2,\n",
       "   'split': [0, 1.0],\n",
       "   'n_samples': 5924,\n",
       "   'gain': 8304.11949599313,\n",
       "   'sl': {'y_pred': 176.1299052774019,\n",
       "    'y_prob': 175.89256756756757,\n",
       "    'level': 3,\n",
       "    'split': -1,\n",
       "    'n_samples': 1478,\n",
       "    'gain': 1134.7125713419155},\n",
       "   'sr': {'y_pred': 325.04026090868194,\n",
       "    'y_prob': 324.8943345323741,\n",
       "    'level': 3,\n",
       "    'split': -1,\n",
       "    'n_samples': 4446,\n",
       "    'gain': 7126.654106105911}},\n",
       "  'sr': {'y_pred': 132.15204678362574,\n",
       "   'y_prob': 131.95985401459853,\n",
       "   'level': 2,\n",
       "   'split': [0, 1.0],\n",
       "   'n_samples': 1368,\n",
       "   'gain': 2478.289069001301,\n",
       "   'sl': {'y_pred': 71.18128654970761,\n",
       "    'y_prob': 70.7703488372093,\n",
       "    'level': 3,\n",
       "    'split': -1,\n",
       "    'n_samples': 342,\n",
       "    'gain': 668.1166854758721},\n",
       "   'sr': {'y_pred': 152.47563352826512,\n",
       "    'y_prob': 152.17996108949416,\n",
       "    'level': 3,\n",
       "    'split': -1,\n",
       "    'n_samples': 1026,\n",
       "    'gain': 2327.263104696969}}}}"
      ]
     },
     "execution_count": 48,
     "metadata": {},
     "output_type": "execute_result"
    }
   ],
   "source": [
    "tree = tree_grow(X, y, level=0, min_gain=0.001, max_depth=3, num_pct=10)\n",
    "tree"
   ]
  },
  {
   "cell_type": "code",
   "execution_count": 49,
   "metadata": {},
   "outputs": [],
   "source": [
    "# Definición de la función tree_predict para hacer predicciones según las variables 'X' y el árbol 'tree'\n",
    "\n",
    "def tree_predict(X, tree, proba=False):\n",
    "    \n",
    "    predicted = np.ones(X.shape[0])\n",
    "\n",
    "    # Revisar si es el nodo final\n",
    "    if tree['split'] == -1:\n",
    "        if not proba:\n",
    "            predicted = predicted * tree['y_pred']\n",
    "        else:\n",
    "            predicted = predicted * tree['y_prob']\n",
    "            \n",
    "    else:\n",
    "        \n",
    "        j, split = tree['split']\n",
    "        filter_l = (X.iloc[:, j] < split)\n",
    "        X_l = X.loc[filter_l]\n",
    "        X_r = X.loc[~filter_l]\n",
    "\n",
    "        if X_l.shape[0] == 0:  # Si el nodo izquierdo está vacio solo continua con el derecho \n",
    "            predicted[~filter_l] = tree_predict(X_r, tree['sr'], proba)\n",
    "        elif X_r.shape[0] == 0:  #  Si el nodo derecho está vacio solo continua con el izquierdo\n",
    "            predicted[filter_l] = tree_predict(X_l, tree['sl'], proba)\n",
    "        else:\n",
    "            predicted[filter_l] = tree_predict(X_l, tree['sl'], proba)\n",
    "            predicted[~filter_l] = tree_predict(X_r, tree['sr'], proba)\n",
    "\n",
    "    return predicted"
   ]
  },
  {
   "cell_type": "code",
   "execution_count": 52,
   "metadata": {
    "scrolled": true
   },
   "outputs": [],
   "source": [
    "# Ejecución de función tree_predict\n",
    "y_pred = tree_predict(XTest, tree)"
   ]
  },
  {
   "cell_type": "code",
   "execution_count": 56,
   "metadata": {},
   "outputs": [
    {
     "name": "stdout",
     "output_type": "stream",
     "text": [
      "MSE: 17571.02\n",
      "R cuadrado: 0.46\n"
     ]
    }
   ],
   "source": [
    "# MSE\n",
    "print(\"MSE: %.2f\" % mean_squared_error(yTest, y_pred))\n",
    "# R cuadrado\n",
    "print(\"R cuadrado: %.2f\" % r2_score(yTest, y_pred))"
   ]
  },
  {
   "cell_type": "markdown",
   "metadata": {},
   "source": [
    "### Punto 5 - Árbol de decisión con librería\n",
    "En la celda 5 entrene un árbol de decisiones con la **librería sklearn**, usando las variables predictoras \"season\" y \"hour\" y calibre los parámetros que considere conveniente para obtener un mejor desempeño. Comente el desempeño del modelo con alguna métrica de desempeño de modelos de regresión y compare desempeño con el modelo del punto 3."
   ]
  },
  {
   "cell_type": "code",
   "execution_count": 19,
   "metadata": {
    "scrolled": false
   },
   "outputs": [
    {
     "name": "stdout",
     "output_type": "stream",
     "text": [
      "MSE: 13395.20\n",
      "R cuadrado: 0.59\n"
     ]
    }
   ],
   "source": [
    "# Celda 5\n",
    "from sklearn.model_selection import cross_val_score\n",
    "from sklearn.tree import DecisionTreeRegressor\n",
    "\n",
    "dtr = DecisionTreeRegressor()\n",
    "dtr.fit(XTrain, yTrain)\n",
    "\n",
    "y_pred = dtr.predict(XTest)\n",
    "\n",
    "# MSE\n",
    "print(\"MSE: %.2f\" % mean_squared_error(yTest, y_pred))\n",
    "# R cuadrado\n",
    "print(\"R cuadrado: %.2f\" % r2_score(yTest, y_pred))"
   ]
  },
  {
   "cell_type": "code",
   "execution_count": 20,
   "metadata": {},
   "outputs": [
    {
     "name": "stdout",
     "output_type": "stream",
     "text": [
      "Fitting 3 folds for each of 70 candidates, totalling 210 fits\n",
      "[CV 1/3] END max_depth=1, min_samples_leaf=1;, score=-21268.433 total time=   0.0s\n",
      "[CV 2/3] END max_depth=1, min_samples_leaf=1;, score=-17233.452 total time=   0.0s\n",
      "[CV 3/3] END max_depth=1, min_samples_leaf=1;, score=-43739.176 total time=   0.0s\n",
      "[CV 1/3] END max_depth=1, min_samples_leaf=2;, score=-21268.433 total time=   0.0s\n",
      "[CV 2/3] END max_depth=1, min_samples_leaf=2;, score=-17233.452 total time=   0.0s\n",
      "[CV 3/3] END max_depth=1, min_samples_leaf=2;, score=-43739.176 total time=   0.0s\n",
      "[CV 1/3] END max_depth=1, min_samples_leaf=3;, score=-21268.433 total time=   0.0s\n",
      "[CV 2/3] END max_depth=1, min_samples_leaf=3;, score=-17233.452 total time=   0.0s\n",
      "[CV 3/3] END max_depth=1, min_samples_leaf=3;, score=-43739.176 total time=   0.0s\n",
      "[CV 1/3] END max_depth=1, min_samples_leaf=4;, score=-21268.433 total time=   0.0s\n",
      "[CV 2/3] END max_depth=1, min_samples_leaf=4;, score=-17233.452 total time=   0.0s\n",
      "[CV 3/3] END max_depth=1, min_samples_leaf=4;, score=-43739.176 total time=   0.0s\n",
      "[CV 1/3] END max_depth=1, min_samples_leaf=5;, score=-21268.433 total time=   0.0s\n",
      "[CV 2/3] END max_depth=1, min_samples_leaf=5;, score=-17233.452 total time=   0.0s\n",
      "[CV 3/3] END max_depth=1, min_samples_leaf=5;, score=-43739.176 total time=   0.0s\n",
      "[CV 1/3] END max_depth=1, min_samples_leaf=6;, score=-21268.433 total time=   0.0s\n",
      "[CV 2/3] END max_depth=1, min_samples_leaf=6;, score=-17233.452 total time=   0.0s\n",
      "[CV 3/3] END max_depth=1, min_samples_leaf=6;, score=-43739.176 total time=   0.0s\n",
      "[CV 1/3] END max_depth=1, min_samples_leaf=7;, score=-21268.433 total time=   0.0s\n",
      "[CV 2/3] END max_depth=1, min_samples_leaf=7;, score=-17233.452 total time=   0.0s\n",
      "[CV 3/3] END max_depth=1, min_samples_leaf=7;, score=-43739.176 total time=   0.0s\n",
      "[CV 1/3] END max_depth=1, min_samples_leaf=8;, score=-21268.433 total time=   0.0s\n",
      "[CV 2/3] END max_depth=1, min_samples_leaf=8;, score=-17233.452 total time=   0.0s\n",
      "[CV 3/3] END max_depth=1, min_samples_leaf=8;, score=-43739.176 total time=   0.0s\n",
      "[CV 1/3] END max_depth=1, min_samples_leaf=9;, score=-21268.433 total time=   0.0s\n",
      "[CV 2/3] END max_depth=1, min_samples_leaf=9;, score=-17233.452 total time=   0.0s\n",
      "[CV 3/3] END max_depth=1, min_samples_leaf=9;, score=-43739.176 total time=   0.0s\n",
      "[CV 1/3] END max_depth=1, min_samples_leaf=10;, score=-21268.433 total time=   0.0s\n",
      "[CV 2/3] END max_depth=1, min_samples_leaf=10;, score=-17233.452 total time=   0.0s\n",
      "[CV 3/3] END max_depth=1, min_samples_leaf=10;, score=-43739.176 total time=   0.0s\n",
      "[CV 1/3] END max_depth=3, min_samples_leaf=1;, score=-19900.808 total time=   0.0s\n",
      "[CV 2/3] END max_depth=3, min_samples_leaf=1;, score=-19975.215 total time=   0.0s\n",
      "[CV 3/3] END max_depth=3, min_samples_leaf=1;, score=-33720.852 total time=   0.0s\n",
      "[CV 1/3] END max_depth=3, min_samples_leaf=2;, score=-19900.808 total time=   0.0s\n",
      "[CV 2/3] END max_depth=3, min_samples_leaf=2;, score=-19975.215 total time=   0.0s\n",
      "[CV 3/3] END max_depth=3, min_samples_leaf=2;, score=-33720.852 total time=   0.0s\n",
      "[CV 1/3] END max_depth=3, min_samples_leaf=3;, score=-19900.808 total time=   0.0s\n",
      "[CV 2/3] END max_depth=3, min_samples_leaf=3;, score=-19975.215 total time=   0.0s\n",
      "[CV 3/3] END max_depth=3, min_samples_leaf=3;, score=-33720.852 total time=   0.0s\n",
      "[CV 1/3] END max_depth=3, min_samples_leaf=4;, score=-19900.808 total time=   0.0s\n",
      "[CV 2/3] END max_depth=3, min_samples_leaf=4;, score=-19975.215 total time=   0.0s\n",
      "[CV 3/3] END max_depth=3, min_samples_leaf=4;, score=-33720.852 total time=   0.0s\n",
      "[CV 1/3] END max_depth=3, min_samples_leaf=5;, score=-19900.808 total time=   0.0s\n",
      "[CV 2/3] END max_depth=3, min_samples_leaf=5;, score=-19975.215 total time=   0.0s\n",
      "[CV 3/3] END max_depth=3, min_samples_leaf=5;, score=-33720.852 total time=   0.0s\n",
      "[CV 1/3] END max_depth=3, min_samples_leaf=6;, score=-19900.808 total time=   0.0s\n",
      "[CV 2/3] END max_depth=3, min_samples_leaf=6;, score=-19975.215 total time=   0.0s\n",
      "[CV 3/3] END max_depth=3, min_samples_leaf=6;, score=-33720.852 total time=   0.0s\n",
      "[CV 1/3] END max_depth=3, min_samples_leaf=7;, score=-19900.808 total time=   0.0s\n",
      "[CV 2/3] END max_depth=3, min_samples_leaf=7;, score=-19975.215 total time=   0.0s\n",
      "[CV 3/3] END max_depth=3, min_samples_leaf=7;, score=-33720.852 total time=   0.0s\n",
      "[CV 1/3] END max_depth=3, min_samples_leaf=8;, score=-19900.808 total time=   0.0s\n",
      "[CV 2/3] END max_depth=3, min_samples_leaf=8;, score=-19975.215 total time=   0.0s\n",
      "[CV 3/3] END max_depth=3, min_samples_leaf=8;, score=-33720.852 total time=   0.0s\n",
      "[CV 1/3] END max_depth=3, min_samples_leaf=9;, score=-19900.808 total time=   0.0s\n",
      "[CV 2/3] END max_depth=3, min_samples_leaf=9;, score=-19975.215 total time=   0.0s\n",
      "[CV 3/3] END max_depth=3, min_samples_leaf=9;, score=-33720.852 total time=   0.0s\n",
      "[CV 1/3] END max_depth=3, min_samples_leaf=10;, score=-19900.808 total time=   0.0s\n",
      "[CV 2/3] END max_depth=3, min_samples_leaf=10;, score=-19975.215 total time=   0.0s\n",
      "[CV 3/3] END max_depth=3, min_samples_leaf=10;, score=-33720.852 total time=   0.0s\n",
      "[CV 1/3] END max_depth=5, min_samples_leaf=1;, score=-18282.354 total time=   0.0s\n",
      "[CV 2/3] END max_depth=5, min_samples_leaf=1;, score=-18223.444 total time=   0.0s\n",
      "[CV 3/3] END max_depth=5, min_samples_leaf=1;, score=-28857.968 total time=   0.0s\n",
      "[CV 1/3] END max_depth=5, min_samples_leaf=2;, score=-18282.354 total time=   0.0s\n",
      "[CV 2/3] END max_depth=5, min_samples_leaf=2;, score=-18223.444 total time=   0.0s\n",
      "[CV 3/3] END max_depth=5, min_samples_leaf=2;, score=-28857.968 total time=   0.0s\n",
      "[CV 1/3] END max_depth=5, min_samples_leaf=3;, score=-18282.354 total time=   0.0s\n",
      "[CV 2/3] END max_depth=5, min_samples_leaf=3;, score=-18223.444 total time=   0.0s\n",
      "[CV 3/3] END max_depth=5, min_samples_leaf=3;, score=-28857.968 total time=   0.0s\n",
      "[CV 1/3] END max_depth=5, min_samples_leaf=4;, score=-18282.354 total time=   0.0s\n",
      "[CV 2/3] END max_depth=5, min_samples_leaf=4;, score=-18223.444 total time=   0.0s\n",
      "[CV 3/3] END max_depth=5, min_samples_leaf=4;, score=-28857.968 total time=   0.0s\n",
      "[CV 1/3] END max_depth=5, min_samples_leaf=5;, score=-18282.354 total time=   0.0s\n",
      "[CV 2/3] END max_depth=5, min_samples_leaf=5;, score=-18223.444 total time=   0.0s\n",
      "[CV 3/3] END max_depth=5, min_samples_leaf=5;, score=-28857.968 total time=   0.0s\n",
      "[CV 1/3] END max_depth=5, min_samples_leaf=6;, score=-18282.354 total time=   0.0s\n",
      "[CV 2/3] END max_depth=5, min_samples_leaf=6;, score=-18223.444 total time=   0.0s\n",
      "[CV 3/3] END max_depth=5, min_samples_leaf=6;, score=-28857.968 total time=   0.0s\n",
      "[CV 1/3] END max_depth=5, min_samples_leaf=7;, score=-18282.354 total time=   0.0s\n",
      "[CV 2/3] END max_depth=5, min_samples_leaf=7;, score=-18223.444 total time=   0.0s\n",
      "[CV 3/3] END max_depth=5, min_samples_leaf=7;, score=-28857.968 total time=   0.0s\n",
      "[CV 1/3] END max_depth=5, min_samples_leaf=8;, score=-18282.354 total time=   0.0s\n",
      "[CV 2/3] END max_depth=5, min_samples_leaf=8;, score=-18223.444 total time=   0.0s\n",
      "[CV 3/3] END max_depth=5, min_samples_leaf=8;, score=-28857.968 total time=   0.0s\n",
      "[CV 1/3] END max_depth=5, min_samples_leaf=9;, score=-18282.354 total time=   0.0s\n",
      "[CV 2/3] END max_depth=5, min_samples_leaf=9;, score=-18223.444 total time=   0.0s\n",
      "[CV 3/3] END max_depth=5, min_samples_leaf=9;, score=-28857.968 total time=   0.0s\n",
      "[CV 1/3] END max_depth=5, min_samples_leaf=10;, score=-18282.354 total time=   0.0s\n",
      "[CV 2/3] END max_depth=5, min_samples_leaf=10;, score=-18223.444 total time=   0.0s\n",
      "[CV 3/3] END max_depth=5, min_samples_leaf=10;, score=-28857.968 total time=   0.0s\n",
      "[CV 1/3] END max_depth=7, min_samples_leaf=1;, score=-16650.686 total time=   0.0s\n",
      "[CV 2/3] END max_depth=7, min_samples_leaf=1;, score=-19384.705 total time=   0.0s\n",
      "[CV 3/3] END max_depth=7, min_samples_leaf=1;, score=-26762.091 total time=   0.0s\n",
      "[CV 1/3] END max_depth=7, min_samples_leaf=2;, score=-16650.686 total time=   0.0s\n",
      "[CV 2/3] END max_depth=7, min_samples_leaf=2;, score=-19384.705 total time=   0.0s\n",
      "[CV 3/3] END max_depth=7, min_samples_leaf=2;, score=-26762.091 total time=   0.0s\n",
      "[CV 1/3] END max_depth=7, min_samples_leaf=3;, score=-16650.686 total time=   0.0s\n",
      "[CV 2/3] END max_depth=7, min_samples_leaf=3;, score=-19384.705 total time=   0.0s\n",
      "[CV 3/3] END max_depth=7, min_samples_leaf=3;, score=-26762.091 total time=   0.0s\n",
      "[CV 1/3] END max_depth=7, min_samples_leaf=4;, score=-16650.686 total time=   0.0s\n",
      "[CV 2/3] END max_depth=7, min_samples_leaf=4;, score=-19384.705 total time=   0.0s\n",
      "[CV 3/3] END max_depth=7, min_samples_leaf=4;, score=-26762.091 total time=   0.0s\n",
      "[CV 1/3] END max_depth=7, min_samples_leaf=5;, score=-16650.686 total time=   0.0s\n",
      "[CV 2/3] END max_depth=7, min_samples_leaf=5;, score=-19384.705 total time=   0.0s\n",
      "[CV 3/3] END max_depth=7, min_samples_leaf=5;, score=-26762.091 total time=   0.0s\n",
      "[CV 1/3] END max_depth=7, min_samples_leaf=6;, score=-16650.686 total time=   0.0s\n",
      "[CV 2/3] END max_depth=7, min_samples_leaf=6;, score=-19384.705 total time=   0.0s\n",
      "[CV 3/3] END max_depth=7, min_samples_leaf=6;, score=-26762.091 total time=   0.0s\n",
      "[CV 1/3] END max_depth=7, min_samples_leaf=7;, score=-16650.686 total time=   0.0s\n",
      "[CV 2/3] END max_depth=7, min_samples_leaf=7;, score=-19384.705 total time=   0.0s\n",
      "[CV 3/3] END max_depth=7, min_samples_leaf=7;, score=-26762.091 total time=   0.0s\n",
      "[CV 1/3] END max_depth=7, min_samples_leaf=8;, score=-16650.686 total time=   0.0s\n",
      "[CV 2/3] END max_depth=7, min_samples_leaf=8;, score=-19384.705 total time=   0.0s\n",
      "[CV 3/3] END max_depth=7, min_samples_leaf=8;, score=-26762.091 total time=   0.0s\n",
      "[CV 1/3] END max_depth=7, min_samples_leaf=9;, score=-16650.686 total time=   0.0s\n",
      "[CV 2/3] END max_depth=7, min_samples_leaf=9;, score=-19384.705 total time=   0.0s\n",
      "[CV 3/3] END max_depth=7, min_samples_leaf=9;, score=-26762.091 total time=   0.0s\n",
      "[CV 1/3] END max_depth=7, min_samples_leaf=10;, score=-16650.686 total time=   0.0s\n",
      "[CV 2/3] END max_depth=7, min_samples_leaf=10;, score=-19384.705 total time=   0.0s\n",
      "[CV 3/3] END max_depth=7, min_samples_leaf=10;, score=-26762.091 total time=   0.0s\n",
      "[CV 1/3] END max_depth=9, min_samples_leaf=1;, score=-17373.533 total time=   0.0s\n",
      "[CV 2/3] END max_depth=9, min_samples_leaf=1;, score=-19284.154 total time=   0.0s\n",
      "[CV 3/3] END max_depth=9, min_samples_leaf=1;, score=-26748.989 total time=   0.0s\n",
      "[CV 1/3] END max_depth=9, min_samples_leaf=2;, score=-17373.533 total time=   0.0s\n",
      "[CV 2/3] END max_depth=9, min_samples_leaf=2;, score=-19284.154 total time=   0.0s\n",
      "[CV 3/3] END max_depth=9, min_samples_leaf=2;, score=-26748.989 total time=   0.0s\n",
      "[CV 1/3] END max_depth=9, min_samples_leaf=3;, score=-17373.533 total time=   0.0s\n",
      "[CV 2/3] END max_depth=9, min_samples_leaf=3;, score=-19284.154 total time=   0.0s\n",
      "[CV 3/3] END max_depth=9, min_samples_leaf=3;, score=-26748.989 total time=   0.0s\n",
      "[CV 1/3] END max_depth=9, min_samples_leaf=4;, score=-17373.533 total time=   0.0s\n",
      "[CV 2/3] END max_depth=9, min_samples_leaf=4;, score=-19284.154 total time=   0.0s\n",
      "[CV 3/3] END max_depth=9, min_samples_leaf=4;, score=-26748.989 total time=   0.0s\n",
      "[CV 1/3] END max_depth=9, min_samples_leaf=5;, score=-17373.533 total time=   0.0s\n",
      "[CV 2/3] END max_depth=9, min_samples_leaf=5;, score=-19284.154 total time=   0.0s\n",
      "[CV 3/3] END max_depth=9, min_samples_leaf=5;, score=-26748.989 total time=   0.0s\n",
      "[CV 1/3] END max_depth=9, min_samples_leaf=6;, score=-17373.533 total time=   0.0s\n",
      "[CV 2/3] END max_depth=9, min_samples_leaf=6;, score=-19284.154 total time=   0.0s\n",
      "[CV 3/3] END max_depth=9, min_samples_leaf=6;, score=-26748.989 total time=   0.0s\n",
      "[CV 1/3] END max_depth=9, min_samples_leaf=7;, score=-17373.533 total time=   0.0s\n",
      "[CV 2/3] END max_depth=9, min_samples_leaf=7;, score=-19284.154 total time=   0.0s\n",
      "[CV 3/3] END max_depth=9, min_samples_leaf=7;, score=-26748.989 total time=   0.0s\n",
      "[CV 1/3] END max_depth=9, min_samples_leaf=8;, score=-17373.533 total time=   0.0s\n",
      "[CV 2/3] END max_depth=9, min_samples_leaf=8;, score=-19284.154 total time=   0.0s\n"
     ]
    },
    {
     "name": "stdout",
     "output_type": "stream",
     "text": [
      "[CV 3/3] END max_depth=9, min_samples_leaf=8;, score=-26748.989 total time=   0.0s\n",
      "[CV 1/3] END max_depth=9, min_samples_leaf=9;, score=-17373.533 total time=   0.0s\n",
      "[CV 2/3] END max_depth=9, min_samples_leaf=9;, score=-19284.154 total time=   0.0s\n",
      "[CV 3/3] END max_depth=9, min_samples_leaf=9;, score=-26748.989 total time=   0.0s\n",
      "[CV 1/3] END max_depth=9, min_samples_leaf=10;, score=-17373.533 total time=   0.0s\n",
      "[CV 2/3] END max_depth=9, min_samples_leaf=10;, score=-19284.154 total time=   0.0s\n",
      "[CV 3/3] END max_depth=9, min_samples_leaf=10;, score=-26748.989 total time=   0.0s\n",
      "[CV 1/3] END max_depth=11, min_samples_leaf=1;, score=-17427.719 total time=   0.0s\n",
      "[CV 2/3] END max_depth=11, min_samples_leaf=1;, score=-19283.301 total time=   0.0s\n",
      "[CV 3/3] END max_depth=11, min_samples_leaf=1;, score=-26758.182 total time=   0.0s\n",
      "[CV 1/3] END max_depth=11, min_samples_leaf=2;, score=-17427.719 total time=   0.0s\n",
      "[CV 2/3] END max_depth=11, min_samples_leaf=2;, score=-19283.301 total time=   0.0s\n",
      "[CV 3/3] END max_depth=11, min_samples_leaf=2;, score=-26758.182 total time=   0.0s\n",
      "[CV 1/3] END max_depth=11, min_samples_leaf=3;, score=-17427.719 total time=   0.0s\n",
      "[CV 2/3] END max_depth=11, min_samples_leaf=3;, score=-19283.301 total time=   0.0s\n",
      "[CV 3/3] END max_depth=11, min_samples_leaf=3;, score=-26758.182 total time=   0.0s\n",
      "[CV 1/3] END max_depth=11, min_samples_leaf=4;, score=-17427.719 total time=   0.0s\n",
      "[CV 2/3] END max_depth=11, min_samples_leaf=4;, score=-19283.301 total time=   0.0s\n",
      "[CV 3/3] END max_depth=11, min_samples_leaf=4;, score=-26758.182 total time=   0.0s\n",
      "[CV 1/3] END max_depth=11, min_samples_leaf=5;, score=-17427.719 total time=   0.0s\n",
      "[CV 2/3] END max_depth=11, min_samples_leaf=5;, score=-19283.301 total time=   0.0s\n",
      "[CV 3/3] END max_depth=11, min_samples_leaf=5;, score=-26758.182 total time=   0.0s\n",
      "[CV 1/3] END max_depth=11, min_samples_leaf=6;, score=-17427.719 total time=   0.0s\n",
      "[CV 2/3] END max_depth=11, min_samples_leaf=6;, score=-19283.301 total time=   0.0s\n",
      "[CV 3/3] END max_depth=11, min_samples_leaf=6;, score=-26758.182 total time=   0.0s\n",
      "[CV 1/3] END max_depth=11, min_samples_leaf=7;, score=-17427.719 total time=   0.0s\n",
      "[CV 2/3] END max_depth=11, min_samples_leaf=7;, score=-19283.301 total time=   0.0s\n",
      "[CV 3/3] END max_depth=11, min_samples_leaf=7;, score=-26758.182 total time=   0.0s\n",
      "[CV 1/3] END max_depth=11, min_samples_leaf=8;, score=-17427.719 total time=   0.0s\n",
      "[CV 2/3] END max_depth=11, min_samples_leaf=8;, score=-19283.301 total time=   0.0s\n",
      "[CV 3/3] END max_depth=11, min_samples_leaf=8;, score=-26758.182 total time=   0.0s\n",
      "[CV 1/3] END max_depth=11, min_samples_leaf=9;, score=-17427.719 total time=   0.0s\n",
      "[CV 2/3] END max_depth=11, min_samples_leaf=9;, score=-19283.301 total time=   0.0s\n",
      "[CV 3/3] END max_depth=11, min_samples_leaf=9;, score=-26758.182 total time=   0.0s\n",
      "[CV 1/3] END max_depth=11, min_samples_leaf=10;, score=-17427.719 total time=   0.0s\n",
      "[CV 2/3] END max_depth=11, min_samples_leaf=10;, score=-19283.301 total time=   0.0s\n",
      "[CV 3/3] END max_depth=11, min_samples_leaf=10;, score=-26758.182 total time=   0.0s\n",
      "[CV 1/3] END max_depth=12, min_samples_leaf=1;, score=-17427.719 total time=   0.0s\n",
      "[CV 2/3] END max_depth=12, min_samples_leaf=1;, score=-19283.301 total time=   0.0s\n",
      "[CV 3/3] END max_depth=12, min_samples_leaf=1;, score=-26758.182 total time=   0.0s\n",
      "[CV 1/3] END max_depth=12, min_samples_leaf=2;, score=-17427.719 total time=   0.0s\n",
      "[CV 2/3] END max_depth=12, min_samples_leaf=2;, score=-19283.301 total time=   0.0s\n",
      "[CV 3/3] END max_depth=12, min_samples_leaf=2;, score=-26758.182 total time=   0.0s\n",
      "[CV 1/3] END max_depth=12, min_samples_leaf=3;, score=-17427.719 total time=   0.0s\n",
      "[CV 2/3] END max_depth=12, min_samples_leaf=3;, score=-19283.301 total time=   0.0s\n",
      "[CV 3/3] END max_depth=12, min_samples_leaf=3;, score=-26758.182 total time=   0.0s\n",
      "[CV 1/3] END max_depth=12, min_samples_leaf=4;, score=-17427.719 total time=   0.0s\n",
      "[CV 2/3] END max_depth=12, min_samples_leaf=4;, score=-19283.301 total time=   0.0s\n",
      "[CV 3/3] END max_depth=12, min_samples_leaf=4;, score=-26758.182 total time=   0.0s\n",
      "[CV 1/3] END max_depth=12, min_samples_leaf=5;, score=-17427.719 total time=   0.0s\n",
      "[CV 2/3] END max_depth=12, min_samples_leaf=5;, score=-19283.301 total time=   0.0s\n",
      "[CV 3/3] END max_depth=12, min_samples_leaf=5;, score=-26758.182 total time=   0.0s\n",
      "[CV 1/3] END max_depth=12, min_samples_leaf=6;, score=-17427.719 total time=   0.0s\n",
      "[CV 2/3] END max_depth=12, min_samples_leaf=6;, score=-19283.301 total time=   0.0s\n",
      "[CV 3/3] END max_depth=12, min_samples_leaf=6;, score=-26758.182 total time=   0.0s\n",
      "[CV 1/3] END max_depth=12, min_samples_leaf=7;, score=-17427.719 total time=   0.0s\n",
      "[CV 2/3] END max_depth=12, min_samples_leaf=7;, score=-19283.301 total time=   0.0s\n",
      "[CV 3/3] END max_depth=12, min_samples_leaf=7;, score=-26758.182 total time=   0.0s\n",
      "[CV 1/3] END max_depth=12, min_samples_leaf=8;, score=-17427.719 total time=   0.0s\n",
      "[CV 2/3] END max_depth=12, min_samples_leaf=8;, score=-19283.301 total time=   0.0s\n",
      "[CV 3/3] END max_depth=12, min_samples_leaf=8;, score=-26758.182 total time=   0.0s\n",
      "[CV 1/3] END max_depth=12, min_samples_leaf=9;, score=-17427.719 total time=   0.0s\n",
      "[CV 2/3] END max_depth=12, min_samples_leaf=9;, score=-19283.301 total time=   0.0s\n",
      "[CV 3/3] END max_depth=12, min_samples_leaf=9;, score=-26758.182 total time=   0.0s\n",
      "[CV 1/3] END max_depth=12, min_samples_leaf=10;, score=-17427.719 total time=   0.0s\n",
      "[CV 2/3] END max_depth=12, min_samples_leaf=10;, score=-19283.301 total time=   0.0s\n",
      "[CV 3/3] END max_depth=12, min_samples_leaf=10;, score=-26758.182 total time=   0.0s\n"
     ]
    },
    {
     "data": {
      "text/html": [
       "<style>#sk-container-id-4 {color: black;background-color: white;}#sk-container-id-4 pre{padding: 0;}#sk-container-id-4 div.sk-toggleable {background-color: white;}#sk-container-id-4 label.sk-toggleable__label {cursor: pointer;display: block;width: 100%;margin-bottom: 0;padding: 0.3em;box-sizing: border-box;text-align: center;}#sk-container-id-4 label.sk-toggleable__label-arrow:before {content: \"▸\";float: left;margin-right: 0.25em;color: #696969;}#sk-container-id-4 label.sk-toggleable__label-arrow:hover:before {color: black;}#sk-container-id-4 div.sk-estimator:hover label.sk-toggleable__label-arrow:before {color: black;}#sk-container-id-4 div.sk-toggleable__content {max-height: 0;max-width: 0;overflow: hidden;text-align: left;background-color: #f0f8ff;}#sk-container-id-4 div.sk-toggleable__content pre {margin: 0.2em;color: black;border-radius: 0.25em;background-color: #f0f8ff;}#sk-container-id-4 input.sk-toggleable__control:checked~div.sk-toggleable__content {max-height: 200px;max-width: 100%;overflow: auto;}#sk-container-id-4 input.sk-toggleable__control:checked~label.sk-toggleable__label-arrow:before {content: \"▾\";}#sk-container-id-4 div.sk-estimator input.sk-toggleable__control:checked~label.sk-toggleable__label {background-color: #d4ebff;}#sk-container-id-4 div.sk-label input.sk-toggleable__control:checked~label.sk-toggleable__label {background-color: #d4ebff;}#sk-container-id-4 input.sk-hidden--visually {border: 0;clip: rect(1px 1px 1px 1px);clip: rect(1px, 1px, 1px, 1px);height: 1px;margin: -1px;overflow: hidden;padding: 0;position: absolute;width: 1px;}#sk-container-id-4 div.sk-estimator {font-family: monospace;background-color: #f0f8ff;border: 1px dotted black;border-radius: 0.25em;box-sizing: border-box;margin-bottom: 0.5em;}#sk-container-id-4 div.sk-estimator:hover {background-color: #d4ebff;}#sk-container-id-4 div.sk-parallel-item::after {content: \"\";width: 100%;border-bottom: 1px solid gray;flex-grow: 1;}#sk-container-id-4 div.sk-label:hover label.sk-toggleable__label {background-color: #d4ebff;}#sk-container-id-4 div.sk-serial::before {content: \"\";position: absolute;border-left: 1px solid gray;box-sizing: border-box;top: 0;bottom: 0;left: 50%;z-index: 0;}#sk-container-id-4 div.sk-serial {display: flex;flex-direction: column;align-items: center;background-color: white;padding-right: 0.2em;padding-left: 0.2em;position: relative;}#sk-container-id-4 div.sk-item {position: relative;z-index: 1;}#sk-container-id-4 div.sk-parallel {display: flex;align-items: stretch;justify-content: center;background-color: white;position: relative;}#sk-container-id-4 div.sk-item::before, #sk-container-id-4 div.sk-parallel-item::before {content: \"\";position: absolute;border-left: 1px solid gray;box-sizing: border-box;top: 0;bottom: 0;left: 50%;z-index: -1;}#sk-container-id-4 div.sk-parallel-item {display: flex;flex-direction: column;z-index: 1;position: relative;background-color: white;}#sk-container-id-4 div.sk-parallel-item:first-child::after {align-self: flex-end;width: 50%;}#sk-container-id-4 div.sk-parallel-item:last-child::after {align-self: flex-start;width: 50%;}#sk-container-id-4 div.sk-parallel-item:only-child::after {width: 0;}#sk-container-id-4 div.sk-dashed-wrapped {border: 1px dashed gray;margin: 0 0.4em 0.5em 0.4em;box-sizing: border-box;padding-bottom: 0.4em;background-color: white;}#sk-container-id-4 div.sk-label label {font-family: monospace;font-weight: bold;display: inline-block;line-height: 1.2em;}#sk-container-id-4 div.sk-label-container {text-align: center;}#sk-container-id-4 div.sk-container {/* jupyter's `normalize.less` sets `[hidden] { display: none; }` but bootstrap.min.css set `[hidden] { display: none !important; }` so we also need the `!important` here to be able to override the default hidden behavior on the sphinx rendered scikit-learn.org. See: https://github.com/scikit-learn/scikit-learn/issues/21755 */display: inline-block !important;position: relative;}#sk-container-id-4 div.sk-text-repr-fallback {display: none;}</style><div id=\"sk-container-id-4\" class=\"sk-top-container\"><div class=\"sk-text-repr-fallback\"><pre>GridSearchCV(cv=3, estimator=DecisionTreeRegressor(),\n",
       "             param_grid={&#x27;max_depth&#x27;: [1, 3, 5, 7, 9, 11, 12],\n",
       "                         &#x27;min_samples_leaf&#x27;: [1, 2, 3, 4, 5, 6, 7, 8, 9, 10]},\n",
       "             scoring=&#x27;neg_mean_squared_error&#x27;, verbose=3)</pre><b>In a Jupyter environment, please rerun this cell to show the HTML representation or trust the notebook. <br />On GitHub, the HTML representation is unable to render, please try loading this page with nbviewer.org.</b></div><div class=\"sk-container\" hidden><div class=\"sk-item sk-dashed-wrapped\"><div class=\"sk-label-container\"><div class=\"sk-label sk-toggleable\"><input class=\"sk-toggleable__control sk-hidden--visually\" id=\"sk-estimator-id-4\" type=\"checkbox\" ><label for=\"sk-estimator-id-4\" class=\"sk-toggleable__label sk-toggleable__label-arrow\">GridSearchCV</label><div class=\"sk-toggleable__content\"><pre>GridSearchCV(cv=3, estimator=DecisionTreeRegressor(),\n",
       "             param_grid={&#x27;max_depth&#x27;: [1, 3, 5, 7, 9, 11, 12],\n",
       "                         &#x27;min_samples_leaf&#x27;: [1, 2, 3, 4, 5, 6, 7, 8, 9, 10]},\n",
       "             scoring=&#x27;neg_mean_squared_error&#x27;, verbose=3)</pre></div></div></div><div class=\"sk-parallel\"><div class=\"sk-parallel-item\"><div class=\"sk-item\"><div class=\"sk-label-container\"><div class=\"sk-label sk-toggleable\"><input class=\"sk-toggleable__control sk-hidden--visually\" id=\"sk-estimator-id-5\" type=\"checkbox\" ><label for=\"sk-estimator-id-5\" class=\"sk-toggleable__label sk-toggleable__label-arrow\">estimator: DecisionTreeRegressor</label><div class=\"sk-toggleable__content\"><pre>DecisionTreeRegressor()</pre></div></div></div><div class=\"sk-serial\"><div class=\"sk-item\"><div class=\"sk-estimator sk-toggleable\"><input class=\"sk-toggleable__control sk-hidden--visually\" id=\"sk-estimator-id-6\" type=\"checkbox\" ><label for=\"sk-estimator-id-6\" class=\"sk-toggleable__label sk-toggleable__label-arrow\">DecisionTreeRegressor</label><div class=\"sk-toggleable__content\"><pre>DecisionTreeRegressor()</pre></div></div></div></div></div></div></div></div></div></div>"
      ],
      "text/plain": [
       "GridSearchCV(cv=3, estimator=DecisionTreeRegressor(),\n",
       "             param_grid={'max_depth': [1, 3, 5, 7, 9, 11, 12],\n",
       "                         'min_samples_leaf': [1, 2, 3, 4, 5, 6, 7, 8, 9, 10]},\n",
       "             scoring='neg_mean_squared_error', verbose=3)"
      ]
     },
     "execution_count": 20,
     "metadata": {},
     "output_type": "execute_result"
    }
   ],
   "source": [
    "# Inicialización de rango de hiperparámetros para ajuste\n",
    "\n",
    "parametros={\"max_depth\" : [1,3,5,7,9,11,12,],\n",
    "           \"min_samples_leaf\":[1,2,3,4,5,6,7,8,9,10]}\n",
    "\n",
    "# calcular diferentes métricas de regresión\n",
    "from sklearn.model_selection import GridSearchCV\n",
    "tuning_dtr=GridSearchCV(dtr, param_grid=parametros, scoring='neg_mean_squared_error', cv=3, verbose=3)\n",
    "tuning_dtr.fit(X,y)"
   ]
  },
  {
   "cell_type": "code",
   "execution_count": 21,
   "metadata": {
    "scrolled": false
   },
   "outputs": [
    {
     "data": {
      "text/plain": [
       "{'max_depth': 7, 'min_samples_leaf': 1}"
      ]
     },
     "execution_count": 21,
     "metadata": {},
     "output_type": "execute_result"
    }
   ],
   "source": [
    "tuning_dtr.best_params_"
   ]
  },
  {
   "cell_type": "code",
   "execution_count": 22,
   "metadata": {},
   "outputs": [
    {
     "name": "stdout",
     "output_type": "stream",
     "text": [
      "MSE: 13445.85\n",
      "R cuadrado: 0.59\n"
     ]
    }
   ],
   "source": [
    "tuned_dtr= DecisionTreeRegressor(max_depth=7, \n",
    "                                 min_samples_leaf=1)\n",
    "\n",
    "tuned_dtr.fit(XTrain, yTrain)\n",
    "\n",
    "y_pred = tuned_dtr.predict(XTest)\n",
    "\n",
    "# MSE\n",
    "print(\"MSE: %.2f\" % mean_squared_error(yTest, y_pred))\n",
    "# R cuadrado\n",
    "print(\"R cuadrado: %.2f\" % r2_score(yTest, y_pred))"
   ]
  },
  {
   "cell_type": "markdown",
   "metadata": {},
   "source": [
    "## Parte B - Métodos de ensamblajes\n",
    "En esta parte del taller se usará el conjunto de datos de Popularidad de Noticias Online. El objetivo es predecir si la notica es popular o no, la popularidad está dada por la cantidad de reacciones en redes sociales. Para más detalles puede visitar el siguiente enlace: [datos](https://archive.ics.uci.edu/ml/datasets/online+news+popularity)."
   ]
  },
  {
   "cell_type": "markdown",
   "metadata": {},
   "source": [
    "### Datos popularidad de noticias"
   ]
  },
  {
   "cell_type": "code",
   "execution_count": 23,
   "metadata": {
    "scrolled": true
   },
   "outputs": [
    {
     "data": {
      "text/html": [
       "<div>\n",
       "<style scoped>\n",
       "    .dataframe tbody tr th:only-of-type {\n",
       "        vertical-align: middle;\n",
       "    }\n",
       "\n",
       "    .dataframe tbody tr th {\n",
       "        vertical-align: top;\n",
       "    }\n",
       "\n",
       "    .dataframe thead th {\n",
       "        text-align: right;\n",
       "    }\n",
       "</style>\n",
       "<table border=\"1\" class=\"dataframe\">\n",
       "  <thead>\n",
       "    <tr style=\"text-align: right;\">\n",
       "      <th></th>\n",
       "      <th>url</th>\n",
       "      <th>timedelta</th>\n",
       "      <th>n_tokens_title</th>\n",
       "      <th>n_tokens_content</th>\n",
       "      <th>n_unique_tokens</th>\n",
       "      <th>n_non_stop_words</th>\n",
       "      <th>n_non_stop_unique_tokens</th>\n",
       "      <th>num_hrefs</th>\n",
       "      <th>num_self_hrefs</th>\n",
       "      <th>num_imgs</th>\n",
       "      <th>...</th>\n",
       "      <th>min_positive_polarity</th>\n",
       "      <th>max_positive_polarity</th>\n",
       "      <th>avg_negative_polarity</th>\n",
       "      <th>min_negative_polarity</th>\n",
       "      <th>max_negative_polarity</th>\n",
       "      <th>title_subjectivity</th>\n",
       "      <th>title_sentiment_polarity</th>\n",
       "      <th>abs_title_subjectivity</th>\n",
       "      <th>abs_title_sentiment_polarity</th>\n",
       "      <th>Popular</th>\n",
       "    </tr>\n",
       "  </thead>\n",
       "  <tbody>\n",
       "    <tr>\n",
       "      <th>0</th>\n",
       "      <td>http://mashable.com/2014/12/10/cia-torture-rep...</td>\n",
       "      <td>28.0</td>\n",
       "      <td>9.0</td>\n",
       "      <td>188.0</td>\n",
       "      <td>0.732620</td>\n",
       "      <td>1.0</td>\n",
       "      <td>0.844262</td>\n",
       "      <td>5.0</td>\n",
       "      <td>1.0</td>\n",
       "      <td>1.0</td>\n",
       "      <td>...</td>\n",
       "      <td>0.200000</td>\n",
       "      <td>0.80</td>\n",
       "      <td>-0.487500</td>\n",
       "      <td>-0.60</td>\n",
       "      <td>-0.250000</td>\n",
       "      <td>0.9</td>\n",
       "      <td>0.8</td>\n",
       "      <td>0.4</td>\n",
       "      <td>0.8</td>\n",
       "      <td>1</td>\n",
       "    </tr>\n",
       "    <tr>\n",
       "      <th>1</th>\n",
       "      <td>http://mashable.com/2013/10/18/bitlock-kicksta...</td>\n",
       "      <td>447.0</td>\n",
       "      <td>7.0</td>\n",
       "      <td>297.0</td>\n",
       "      <td>0.653199</td>\n",
       "      <td>1.0</td>\n",
       "      <td>0.815789</td>\n",
       "      <td>9.0</td>\n",
       "      <td>4.0</td>\n",
       "      <td>1.0</td>\n",
       "      <td>...</td>\n",
       "      <td>0.160000</td>\n",
       "      <td>0.50</td>\n",
       "      <td>-0.135340</td>\n",
       "      <td>-0.40</td>\n",
       "      <td>-0.050000</td>\n",
       "      <td>0.1</td>\n",
       "      <td>-0.1</td>\n",
       "      <td>0.4</td>\n",
       "      <td>0.1</td>\n",
       "      <td>0</td>\n",
       "    </tr>\n",
       "    <tr>\n",
       "      <th>2</th>\n",
       "      <td>http://mashable.com/2013/07/24/google-glass-po...</td>\n",
       "      <td>533.0</td>\n",
       "      <td>11.0</td>\n",
       "      <td>181.0</td>\n",
       "      <td>0.660377</td>\n",
       "      <td>1.0</td>\n",
       "      <td>0.775701</td>\n",
       "      <td>4.0</td>\n",
       "      <td>3.0</td>\n",
       "      <td>1.0</td>\n",
       "      <td>...</td>\n",
       "      <td>0.136364</td>\n",
       "      <td>1.00</td>\n",
       "      <td>0.000000</td>\n",
       "      <td>0.00</td>\n",
       "      <td>0.000000</td>\n",
       "      <td>0.3</td>\n",
       "      <td>1.0</td>\n",
       "      <td>0.2</td>\n",
       "      <td>1.0</td>\n",
       "      <td>0</td>\n",
       "    </tr>\n",
       "    <tr>\n",
       "      <th>3</th>\n",
       "      <td>http://mashable.com/2013/11/21/these-are-the-m...</td>\n",
       "      <td>413.0</td>\n",
       "      <td>12.0</td>\n",
       "      <td>781.0</td>\n",
       "      <td>0.497409</td>\n",
       "      <td>1.0</td>\n",
       "      <td>0.677350</td>\n",
       "      <td>10.0</td>\n",
       "      <td>3.0</td>\n",
       "      <td>1.0</td>\n",
       "      <td>...</td>\n",
       "      <td>0.100000</td>\n",
       "      <td>1.00</td>\n",
       "      <td>-0.195701</td>\n",
       "      <td>-0.40</td>\n",
       "      <td>-0.071429</td>\n",
       "      <td>0.0</td>\n",
       "      <td>0.0</td>\n",
       "      <td>0.5</td>\n",
       "      <td>0.0</td>\n",
       "      <td>0</td>\n",
       "    </tr>\n",
       "    <tr>\n",
       "      <th>4</th>\n",
       "      <td>http://mashable.com/2014/02/11/parking-ticket-...</td>\n",
       "      <td>331.0</td>\n",
       "      <td>8.0</td>\n",
       "      <td>177.0</td>\n",
       "      <td>0.685714</td>\n",
       "      <td>1.0</td>\n",
       "      <td>0.830357</td>\n",
       "      <td>3.0</td>\n",
       "      <td>2.0</td>\n",
       "      <td>1.0</td>\n",
       "      <td>...</td>\n",
       "      <td>0.100000</td>\n",
       "      <td>0.55</td>\n",
       "      <td>-0.175000</td>\n",
       "      <td>-0.25</td>\n",
       "      <td>-0.100000</td>\n",
       "      <td>0.0</td>\n",
       "      <td>0.0</td>\n",
       "      <td>0.5</td>\n",
       "      <td>0.0</td>\n",
       "      <td>0</td>\n",
       "    </tr>\n",
       "  </tbody>\n",
       "</table>\n",
       "<p>5 rows × 61 columns</p>\n",
       "</div>"
      ],
      "text/plain": [
       "                                                 url  timedelta  \\\n",
       "0  http://mashable.com/2014/12/10/cia-torture-rep...       28.0   \n",
       "1  http://mashable.com/2013/10/18/bitlock-kicksta...      447.0   \n",
       "2  http://mashable.com/2013/07/24/google-glass-po...      533.0   \n",
       "3  http://mashable.com/2013/11/21/these-are-the-m...      413.0   \n",
       "4  http://mashable.com/2014/02/11/parking-ticket-...      331.0   \n",
       "\n",
       "   n_tokens_title  n_tokens_content  n_unique_tokens  n_non_stop_words  \\\n",
       "0             9.0             188.0         0.732620               1.0   \n",
       "1             7.0             297.0         0.653199               1.0   \n",
       "2            11.0             181.0         0.660377               1.0   \n",
       "3            12.0             781.0         0.497409               1.0   \n",
       "4             8.0             177.0         0.685714               1.0   \n",
       "\n",
       "   n_non_stop_unique_tokens  num_hrefs  num_self_hrefs  num_imgs  ...  \\\n",
       "0                  0.844262        5.0             1.0       1.0  ...   \n",
       "1                  0.815789        9.0             4.0       1.0  ...   \n",
       "2                  0.775701        4.0             3.0       1.0  ...   \n",
       "3                  0.677350       10.0             3.0       1.0  ...   \n",
       "4                  0.830357        3.0             2.0       1.0  ...   \n",
       "\n",
       "   min_positive_polarity  max_positive_polarity  avg_negative_polarity  \\\n",
       "0               0.200000                   0.80              -0.487500   \n",
       "1               0.160000                   0.50              -0.135340   \n",
       "2               0.136364                   1.00               0.000000   \n",
       "3               0.100000                   1.00              -0.195701   \n",
       "4               0.100000                   0.55              -0.175000   \n",
       "\n",
       "   min_negative_polarity  max_negative_polarity  title_subjectivity  \\\n",
       "0                  -0.60              -0.250000                 0.9   \n",
       "1                  -0.40              -0.050000                 0.1   \n",
       "2                   0.00               0.000000                 0.3   \n",
       "3                  -0.40              -0.071429                 0.0   \n",
       "4                  -0.25              -0.100000                 0.0   \n",
       "\n",
       "   title_sentiment_polarity  abs_title_subjectivity  \\\n",
       "0                       0.8                     0.4   \n",
       "1                      -0.1                     0.4   \n",
       "2                       1.0                     0.2   \n",
       "3                       0.0                     0.5   \n",
       "4                       0.0                     0.5   \n",
       "\n",
       "   abs_title_sentiment_polarity  Popular  \n",
       "0                           0.8        1  \n",
       "1                           0.1        0  \n",
       "2                           1.0        0  \n",
       "3                           0.0        0  \n",
       "4                           0.0        0  \n",
       "\n",
       "[5 rows x 61 columns]"
      ]
     },
     "execution_count": 23,
     "metadata": {},
     "output_type": "execute_result"
    }
   ],
   "source": [
    "# Lectura de la información de archivo .csv\n",
    "df = pd.read_csv('https://raw.githubusercontent.com/davidzarruk/MIAD_ML_NLP_2023/main/datasets/mashable.csv', index_col=0)\n",
    "df.head()"
   ]
  },
  {
   "cell_type": "code",
   "execution_count": 24,
   "metadata": {},
   "outputs": [
    {
     "data": {
      "text/plain": [
       "0.5"
      ]
     },
     "execution_count": 24,
     "metadata": {},
     "output_type": "execute_result"
    }
   ],
   "source": [
    "# Definición variable de interes y variables predictoras\n",
    "X = df.drop(['url', 'Popular'], axis=1)\n",
    "y = df['Popular']\n",
    "y.mean()"
   ]
  },
  {
   "cell_type": "code",
   "execution_count": 25,
   "metadata": {},
   "outputs": [],
   "source": [
    "# División de la muestra en set de entrenamiento y prueba\n",
    "from sklearn.model_selection import train_test_split\n",
    "X_train, X_test, y_train, y_test = train_test_split(X, y, random_state=1)"
   ]
  },
  {
   "cell_type": "markdown",
   "metadata": {},
   "source": [
    "### Punto 6 - Árbol de decisión y regresión logística\n",
    "En la celda 6 construya un árbol de decisión y una regresión logística. Para el árbol calibre al menos un parámetro y evalúe el desempeño de cada modelo usando las métricas de Accuracy y F1-Score."
   ]
  },
  {
   "cell_type": "code",
   "execution_count": 26,
   "metadata": {
    "scrolled": true
   },
   "outputs": [
    {
     "data": {
      "text/html": [
       "<style>#sk-container-id-5 {color: black;background-color: white;}#sk-container-id-5 pre{padding: 0;}#sk-container-id-5 div.sk-toggleable {background-color: white;}#sk-container-id-5 label.sk-toggleable__label {cursor: pointer;display: block;width: 100%;margin-bottom: 0;padding: 0.3em;box-sizing: border-box;text-align: center;}#sk-container-id-5 label.sk-toggleable__label-arrow:before {content: \"▸\";float: left;margin-right: 0.25em;color: #696969;}#sk-container-id-5 label.sk-toggleable__label-arrow:hover:before {color: black;}#sk-container-id-5 div.sk-estimator:hover label.sk-toggleable__label-arrow:before {color: black;}#sk-container-id-5 div.sk-toggleable__content {max-height: 0;max-width: 0;overflow: hidden;text-align: left;background-color: #f0f8ff;}#sk-container-id-5 div.sk-toggleable__content pre {margin: 0.2em;color: black;border-radius: 0.25em;background-color: #f0f8ff;}#sk-container-id-5 input.sk-toggleable__control:checked~div.sk-toggleable__content {max-height: 200px;max-width: 100%;overflow: auto;}#sk-container-id-5 input.sk-toggleable__control:checked~label.sk-toggleable__label-arrow:before {content: \"▾\";}#sk-container-id-5 div.sk-estimator input.sk-toggleable__control:checked~label.sk-toggleable__label {background-color: #d4ebff;}#sk-container-id-5 div.sk-label input.sk-toggleable__control:checked~label.sk-toggleable__label {background-color: #d4ebff;}#sk-container-id-5 input.sk-hidden--visually {border: 0;clip: rect(1px 1px 1px 1px);clip: rect(1px, 1px, 1px, 1px);height: 1px;margin: -1px;overflow: hidden;padding: 0;position: absolute;width: 1px;}#sk-container-id-5 div.sk-estimator {font-family: monospace;background-color: #f0f8ff;border: 1px dotted black;border-radius: 0.25em;box-sizing: border-box;margin-bottom: 0.5em;}#sk-container-id-5 div.sk-estimator:hover {background-color: #d4ebff;}#sk-container-id-5 div.sk-parallel-item::after {content: \"\";width: 100%;border-bottom: 1px solid gray;flex-grow: 1;}#sk-container-id-5 div.sk-label:hover label.sk-toggleable__label {background-color: #d4ebff;}#sk-container-id-5 div.sk-serial::before {content: \"\";position: absolute;border-left: 1px solid gray;box-sizing: border-box;top: 0;bottom: 0;left: 50%;z-index: 0;}#sk-container-id-5 div.sk-serial {display: flex;flex-direction: column;align-items: center;background-color: white;padding-right: 0.2em;padding-left: 0.2em;position: relative;}#sk-container-id-5 div.sk-item {position: relative;z-index: 1;}#sk-container-id-5 div.sk-parallel {display: flex;align-items: stretch;justify-content: center;background-color: white;position: relative;}#sk-container-id-5 div.sk-item::before, #sk-container-id-5 div.sk-parallel-item::before {content: \"\";position: absolute;border-left: 1px solid gray;box-sizing: border-box;top: 0;bottom: 0;left: 50%;z-index: -1;}#sk-container-id-5 div.sk-parallel-item {display: flex;flex-direction: column;z-index: 1;position: relative;background-color: white;}#sk-container-id-5 div.sk-parallel-item:first-child::after {align-self: flex-end;width: 50%;}#sk-container-id-5 div.sk-parallel-item:last-child::after {align-self: flex-start;width: 50%;}#sk-container-id-5 div.sk-parallel-item:only-child::after {width: 0;}#sk-container-id-5 div.sk-dashed-wrapped {border: 1px dashed gray;margin: 0 0.4em 0.5em 0.4em;box-sizing: border-box;padding-bottom: 0.4em;background-color: white;}#sk-container-id-5 div.sk-label label {font-family: monospace;font-weight: bold;display: inline-block;line-height: 1.2em;}#sk-container-id-5 div.sk-label-container {text-align: center;}#sk-container-id-5 div.sk-container {/* jupyter's `normalize.less` sets `[hidden] { display: none; }` but bootstrap.min.css set `[hidden] { display: none !important; }` so we also need the `!important` here to be able to override the default hidden behavior on the sphinx rendered scikit-learn.org. See: https://github.com/scikit-learn/scikit-learn/issues/21755 */display: inline-block !important;position: relative;}#sk-container-id-5 div.sk-text-repr-fallback {display: none;}</style><div id=\"sk-container-id-5\" class=\"sk-top-container\"><div class=\"sk-text-repr-fallback\"><pre>DecisionTreeClassifier()</pre><b>In a Jupyter environment, please rerun this cell to show the HTML representation or trust the notebook. <br />On GitHub, the HTML representation is unable to render, please try loading this page with nbviewer.org.</b></div><div class=\"sk-container\" hidden><div class=\"sk-item\"><div class=\"sk-estimator sk-toggleable\"><input class=\"sk-toggleable__control sk-hidden--visually\" id=\"sk-estimator-id-7\" type=\"checkbox\" checked><label for=\"sk-estimator-id-7\" class=\"sk-toggleable__label sk-toggleable__label-arrow\">DecisionTreeClassifier</label><div class=\"sk-toggleable__content\"><pre>DecisionTreeClassifier()</pre></div></div></div></div></div>"
      ],
      "text/plain": [
       "DecisionTreeClassifier()"
      ]
     },
     "execution_count": 26,
     "metadata": {},
     "output_type": "execute_result"
    }
   ],
   "source": [
    "# Celda 6\n",
    "from sklearn.tree import DecisionTreeClassifier\n",
    "\n",
    "dtc = DecisionTreeClassifier()\n",
    "dtc.fit(X_train, y_train)"
   ]
  },
  {
   "cell_type": "code",
   "execution_count": 27,
   "metadata": {},
   "outputs": [
    {
     "name": "stdout",
     "output_type": "stream",
     "text": [
      "Accuracy: 0.535\n",
      "F1 Score: 0.536\n"
     ]
    }
   ],
   "source": [
    "from sklearn.metrics import f1_score, accuracy_score\n",
    "\n",
    "y_pred = dtc.predict(X_test)\n",
    "print('Accuracy: %.3f' % accuracy_score(y_test, y_pred))\n",
    "print('F1 Score: %.3f' % f1_score(y_test, y_pred))"
   ]
  },
  {
   "cell_type": "code",
   "execution_count": 28,
   "metadata": {
    "scrolled": false
   },
   "outputs": [
    {
     "data": {
      "image/png": "[encoded data removed]",
      "text/plain": [
       "<Figure size 640x480 with 1 Axes>"
      ]
     },
     "metadata": {},
     "output_type": "display_data"
    }
   ],
   "source": [
    "from sklearn.metrics import roc_curve, auc\n",
    "\n",
    "max_depths = np.linspace(1, 32, 32, endpoint=True)\n",
    "train_results = []\n",
    "test_results = []\n",
    "for max_depth in range(1,33):\n",
    "    dt = DecisionTreeClassifier(max_depth=max_depth)\n",
    "    dt.fit(X_train, y_train)\n",
    "    train_pred = dt.predict(X_train)\n",
    "    false_positive_rate, true_positive_rate, thresholds = roc_curve(y_train, train_pred)\n",
    "    roc_auc = auc(false_positive_rate, true_positive_rate)\n",
    "    # Add auc score to previous train results\n",
    "    train_results.append(roc_auc)\n",
    "    y_pred = dt.predict(X_test)\n",
    "    false_positive_rate, true_positive_rate, thresholds = roc_curve(y_test, y_pred)\n",
    "    roc_auc = auc(false_positive_rate, true_positive_rate)\n",
    "    # Add auc score to previous test results\n",
    "    test_results.append(roc_auc)\n",
    "from matplotlib.legend_handler import HandlerLine2D\n",
    "line1, = plt.plot(max_depths, train_results, 'b', label='Train AUC')\n",
    "line2, = plt.plot(max_depths, test_results, 'r', label='Test AUC')\n",
    "plt.legend(handler_map={line1: HandlerLine2D(numpoints=2)})\n",
    "plt.ylabel('AUC score')\n",
    "plt.xlabel('Tree depth')\n",
    "plt.show()"
   ]
  },
  {
   "cell_type": "code",
   "execution_count": 29,
   "metadata": {
    "scrolled": false
   },
   "outputs": [
    {
     "data": {
      "text/html": [
       "<style>#sk-container-id-6 {color: black;background-color: white;}#sk-container-id-6 pre{padding: 0;}#sk-container-id-6 div.sk-toggleable {background-color: white;}#sk-container-id-6 label.sk-toggleable__label {cursor: pointer;display: block;width: 100%;margin-bottom: 0;padding: 0.3em;box-sizing: border-box;text-align: center;}#sk-container-id-6 label.sk-toggleable__label-arrow:before {content: \"▸\";float: left;margin-right: 0.25em;color: #696969;}#sk-container-id-6 label.sk-toggleable__label-arrow:hover:before {color: black;}#sk-container-id-6 div.sk-estimator:hover label.sk-toggleable__label-arrow:before {color: black;}#sk-container-id-6 div.sk-toggleable__content {max-height: 0;max-width: 0;overflow: hidden;text-align: left;background-color: #f0f8ff;}#sk-container-id-6 div.sk-toggleable__content pre {margin: 0.2em;color: black;border-radius: 0.25em;background-color: #f0f8ff;}#sk-container-id-6 input.sk-toggleable__control:checked~div.sk-toggleable__content {max-height: 200px;max-width: 100%;overflow: auto;}#sk-container-id-6 input.sk-toggleable__control:checked~label.sk-toggleable__label-arrow:before {content: \"▾\";}#sk-container-id-6 div.sk-estimator input.sk-toggleable__control:checked~label.sk-toggleable__label {background-color: #d4ebff;}#sk-container-id-6 div.sk-label input.sk-toggleable__control:checked~label.sk-toggleable__label {background-color: #d4ebff;}#sk-container-id-6 input.sk-hidden--visually {border: 0;clip: rect(1px 1px 1px 1px);clip: rect(1px, 1px, 1px, 1px);height: 1px;margin: -1px;overflow: hidden;padding: 0;position: absolute;width: 1px;}#sk-container-id-6 div.sk-estimator {font-family: monospace;background-color: #f0f8ff;border: 1px dotted black;border-radius: 0.25em;box-sizing: border-box;margin-bottom: 0.5em;}#sk-container-id-6 div.sk-estimator:hover {background-color: #d4ebff;}#sk-container-id-6 div.sk-parallel-item::after {content: \"\";width: 100%;border-bottom: 1px solid gray;flex-grow: 1;}#sk-container-id-6 div.sk-label:hover label.sk-toggleable__label {background-color: #d4ebff;}#sk-container-id-6 div.sk-serial::before {content: \"\";position: absolute;border-left: 1px solid gray;box-sizing: border-box;top: 0;bottom: 0;left: 50%;z-index: 0;}#sk-container-id-6 div.sk-serial {display: flex;flex-direction: column;align-items: center;background-color: white;padding-right: 0.2em;padding-left: 0.2em;position: relative;}#sk-container-id-6 div.sk-item {position: relative;z-index: 1;}#sk-container-id-6 div.sk-parallel {display: flex;align-items: stretch;justify-content: center;background-color: white;position: relative;}#sk-container-id-6 div.sk-item::before, #sk-container-id-6 div.sk-parallel-item::before {content: \"\";position: absolute;border-left: 1px solid gray;box-sizing: border-box;top: 0;bottom: 0;left: 50%;z-index: -1;}#sk-container-id-6 div.sk-parallel-item {display: flex;flex-direction: column;z-index: 1;position: relative;background-color: white;}#sk-container-id-6 div.sk-parallel-item:first-child::after {align-self: flex-end;width: 50%;}#sk-container-id-6 div.sk-parallel-item:last-child::after {align-self: flex-start;width: 50%;}#sk-container-id-6 div.sk-parallel-item:only-child::after {width: 0;}#sk-container-id-6 div.sk-dashed-wrapped {border: 1px dashed gray;margin: 0 0.4em 0.5em 0.4em;box-sizing: border-box;padding-bottom: 0.4em;background-color: white;}#sk-container-id-6 div.sk-label label {font-family: monospace;font-weight: bold;display: inline-block;line-height: 1.2em;}#sk-container-id-6 div.sk-label-container {text-align: center;}#sk-container-id-6 div.sk-container {/* jupyter's `normalize.less` sets `[hidden] { display: none; }` but bootstrap.min.css set `[hidden] { display: none !important; }` so we also need the `!important` here to be able to override the default hidden behavior on the sphinx rendered scikit-learn.org. See: https://github.com/scikit-learn/scikit-learn/issues/21755 */display: inline-block !important;position: relative;}#sk-container-id-6 div.sk-text-repr-fallback {display: none;}</style><div id=\"sk-container-id-6\" class=\"sk-top-container\"><div class=\"sk-text-repr-fallback\"><pre>DecisionTreeClassifier(max_depth=4)</pre><b>In a Jupyter environment, please rerun this cell to show the HTML representation or trust the notebook. <br />On GitHub, the HTML representation is unable to render, please try loading this page with nbviewer.org.</b></div><div class=\"sk-container\" hidden><div class=\"sk-item\"><div class=\"sk-estimator sk-toggleable\"><input class=\"sk-toggleable__control sk-hidden--visually\" id=\"sk-estimator-id-8\" type=\"checkbox\" checked><label for=\"sk-estimator-id-8\" class=\"sk-toggleable__label sk-toggleable__label-arrow\">DecisionTreeClassifier</label><div class=\"sk-toggleable__content\"><pre>DecisionTreeClassifier(max_depth=4)</pre></div></div></div></div></div>"
      ],
      "text/plain": [
       "DecisionTreeClassifier(max_depth=4)"
      ]
     },
     "execution_count": 29,
     "metadata": {},
     "output_type": "execute_result"
    }
   ],
   "source": [
    "tuned_dtc = DecisionTreeClassifier(max_depth=4)\n",
    "tuned_dtc.fit(X_train, y_train)"
   ]
  },
  {
   "cell_type": "code",
   "execution_count": 30,
   "metadata": {
    "scrolled": false
   },
   "outputs": [
    {
     "name": "stdout",
     "output_type": "stream",
     "text": [
      "Accuracy: 0.651\n",
      "F1 Score: 0.635\n"
     ]
    }
   ],
   "source": [
    "y_pred = tuned_dtc.predict(X_test)\n",
    "print('Accuracy: %.3f' % accuracy_score(y_test, y_pred))\n",
    "print('F1 Score: %.3f' % f1_score(y_test, y_pred))"
   ]
  },
  {
   "cell_type": "code",
   "execution_count": 31,
   "metadata": {
    "scrolled": true
   },
   "outputs": [
    {
     "data": {
      "text/html": [
       "<style>#sk-container-id-7 {color: black;background-color: white;}#sk-container-id-7 pre{padding: 0;}#sk-container-id-7 div.sk-toggleable {background-color: white;}#sk-container-id-7 label.sk-toggleable__label {cursor: pointer;display: block;width: 100%;margin-bottom: 0;padding: 0.3em;box-sizing: border-box;text-align: center;}#sk-container-id-7 label.sk-toggleable__label-arrow:before {content: \"▸\";float: left;margin-right: 0.25em;color: #696969;}#sk-container-id-7 label.sk-toggleable__label-arrow:hover:before {color: black;}#sk-container-id-7 div.sk-estimator:hover label.sk-toggleable__label-arrow:before {color: black;}#sk-container-id-7 div.sk-toggleable__content {max-height: 0;max-width: 0;overflow: hidden;text-align: left;background-color: #f0f8ff;}#sk-container-id-7 div.sk-toggleable__content pre {margin: 0.2em;color: black;border-radius: 0.25em;background-color: #f0f8ff;}#sk-container-id-7 input.sk-toggleable__control:checked~div.sk-toggleable__content {max-height: 200px;max-width: 100%;overflow: auto;}#sk-container-id-7 input.sk-toggleable__control:checked~label.sk-toggleable__label-arrow:before {content: \"▾\";}#sk-container-id-7 div.sk-estimator input.sk-toggleable__control:checked~label.sk-toggleable__label {background-color: #d4ebff;}#sk-container-id-7 div.sk-label input.sk-toggleable__control:checked~label.sk-toggleable__label {background-color: #d4ebff;}#sk-container-id-7 input.sk-hidden--visually {border: 0;clip: rect(1px 1px 1px 1px);clip: rect(1px, 1px, 1px, 1px);height: 1px;margin: -1px;overflow: hidden;padding: 0;position: absolute;width: 1px;}#sk-container-id-7 div.sk-estimator {font-family: monospace;background-color: #f0f8ff;border: 1px dotted black;border-radius: 0.25em;box-sizing: border-box;margin-bottom: 0.5em;}#sk-container-id-7 div.sk-estimator:hover {background-color: #d4ebff;}#sk-container-id-7 div.sk-parallel-item::after {content: \"\";width: 100%;border-bottom: 1px solid gray;flex-grow: 1;}#sk-container-id-7 div.sk-label:hover label.sk-toggleable__label {background-color: #d4ebff;}#sk-container-id-7 div.sk-serial::before {content: \"\";position: absolute;border-left: 1px solid gray;box-sizing: border-box;top: 0;bottom: 0;left: 50%;z-index: 0;}#sk-container-id-7 div.sk-serial {display: flex;flex-direction: column;align-items: center;background-color: white;padding-right: 0.2em;padding-left: 0.2em;position: relative;}#sk-container-id-7 div.sk-item {position: relative;z-index: 1;}#sk-container-id-7 div.sk-parallel {display: flex;align-items: stretch;justify-content: center;background-color: white;position: relative;}#sk-container-id-7 div.sk-item::before, #sk-container-id-7 div.sk-parallel-item::before {content: \"\";position: absolute;border-left: 1px solid gray;box-sizing: border-box;top: 0;bottom: 0;left: 50%;z-index: -1;}#sk-container-id-7 div.sk-parallel-item {display: flex;flex-direction: column;z-index: 1;position: relative;background-color: white;}#sk-container-id-7 div.sk-parallel-item:first-child::after {align-self: flex-end;width: 50%;}#sk-container-id-7 div.sk-parallel-item:last-child::after {align-self: flex-start;width: 50%;}#sk-container-id-7 div.sk-parallel-item:only-child::after {width: 0;}#sk-container-id-7 div.sk-dashed-wrapped {border: 1px dashed gray;margin: 0 0.4em 0.5em 0.4em;box-sizing: border-box;padding-bottom: 0.4em;background-color: white;}#sk-container-id-7 div.sk-label label {font-family: monospace;font-weight: bold;display: inline-block;line-height: 1.2em;}#sk-container-id-7 div.sk-label-container {text-align: center;}#sk-container-id-7 div.sk-container {/* jupyter's `normalize.less` sets `[hidden] { display: none; }` but bootstrap.min.css set `[hidden] { display: none !important; }` so we also need the `!important` here to be able to override the default hidden behavior on the sphinx rendered scikit-learn.org. See: https://github.com/scikit-learn/scikit-learn/issues/21755 */display: inline-block !important;position: relative;}#sk-container-id-7 div.sk-text-repr-fallback {display: none;}</style><div id=\"sk-container-id-7\" class=\"sk-top-container\"><div class=\"sk-text-repr-fallback\"><pre>LogisticRegression()</pre><b>In a Jupyter environment, please rerun this cell to show the HTML representation or trust the notebook. <br />On GitHub, the HTML representation is unable to render, please try loading this page with nbviewer.org.</b></div><div class=\"sk-container\" hidden><div class=\"sk-item\"><div class=\"sk-estimator sk-toggleable\"><input class=\"sk-toggleable__control sk-hidden--visually\" id=\"sk-estimator-id-9\" type=\"checkbox\" checked><label for=\"sk-estimator-id-9\" class=\"sk-toggleable__label sk-toggleable__label-arrow\">LogisticRegression</label><div class=\"sk-toggleable__content\"><pre>LogisticRegression()</pre></div></div></div></div></div>"
      ],
      "text/plain": [
       "LogisticRegression()"
      ]
     },
     "execution_count": 31,
     "metadata": {},
     "output_type": "execute_result"
    }
   ],
   "source": [
    "from sklearn.linear_model import LogisticRegression\n",
    "\n",
    "lrc = LogisticRegression()\n",
    "lrc.fit(X_train, y_train)"
   ]
  },
  {
   "cell_type": "code",
   "execution_count": 32,
   "metadata": {
    "scrolled": true
   },
   "outputs": [
    {
     "name": "stdout",
     "output_type": "stream",
     "text": [
      "Accuracy: 0.613\n",
      "F1 Score: 0.610\n"
     ]
    }
   ],
   "source": [
    "y_pred = lrc.predict(X_test)\n",
    "print('Accuracy: %.3f' % accuracy_score(y_test, y_pred))\n",
    "print('F1 Score: %.3f' % f1_score(y_test, y_pred))"
   ]
  },
  {
   "cell_type": "markdown",
   "metadata": {},
   "source": [
    "- Árbol de decisión \n",
    "\n",
    "\n",
    "Accuracy: 0.651\n",
    "F1 Score: 0.635\n",
    "\n",
    "- Regresión logística\n",
    "\n",
    "\n",
    "Accuracy: 0.613\n",
    "F1 Score: 0.610\n",
    "\n",
    "El modelo de árbol de decisión con el parámetro max_depth optimizado presenta un mejor rendimiento que la regresión logística\n"
   ]
  },
  {
   "cell_type": "markdown",
   "metadata": {},
   "source": [
    "### Punto 7 - Votación Mayoritaria\n",
    "En la celda 7 elabore un esamble con la metodología de **Votación mayoritaria** compuesto por 300 muestras bagged para cada uno de los siguientes escenarios:\n",
    "\n",
    "-100 árboles de decisión donde max_depth tome un valor de su elección\\\n",
    "-100 árboles de decisión donde min_samples_leaf tome un valor de su elección\\\n",
    "-100 regresiones logísticas\n",
    "\n",
    "Evalúe cada uno de los tres modelos de manera independiente utilizando las métricas de Accuracy y F1-Score, luego evalúe el ensamble de modelos y compare los resultados. "
   ]
  },
  {
   "cell_type": "code",
   "execution_count": 52,
   "metadata": {},
   "outputs": [
    {
     "name": "stdout",
     "output_type": "stream",
     "text": [
      "Fitting 5 folds for each of 50 candidates, totalling 250 fits\n"
     ]
    },
    {
     "data": {
      "text/html": [
       "<style>#sk-container-id-9 {color: black;background-color: white;}#sk-container-id-9 pre{padding: 0;}#sk-container-id-9 div.sk-toggleable {background-color: white;}#sk-container-id-9 label.sk-toggleable__label {cursor: pointer;display: block;width: 100%;margin-bottom: 0;padding: 0.3em;box-sizing: border-box;text-align: center;}#sk-container-id-9 label.sk-toggleable__label-arrow:before {content: \"▸\";float: left;margin-right: 0.25em;color: #696969;}#sk-container-id-9 label.sk-toggleable__label-arrow:hover:before {color: black;}#sk-container-id-9 div.sk-estimator:hover label.sk-toggleable__label-arrow:before {color: black;}#sk-container-id-9 div.sk-toggleable__content {max-height: 0;max-width: 0;overflow: hidden;text-align: left;background-color: #f0f8ff;}#sk-container-id-9 div.sk-toggleable__content pre {margin: 0.2em;color: black;border-radius: 0.25em;background-color: #f0f8ff;}#sk-container-id-9 input.sk-toggleable__control:checked~div.sk-toggleable__content {max-height: 200px;max-width: 100%;overflow: auto;}#sk-container-id-9 input.sk-toggleable__control:checked~label.sk-toggleable__label-arrow:before {content: \"▾\";}#sk-container-id-9 div.sk-estimator input.sk-toggleable__control:checked~label.sk-toggleable__label {background-color: #d4ebff;}#sk-container-id-9 div.sk-label input.sk-toggleable__control:checked~label.sk-toggleable__label {background-color: #d4ebff;}#sk-container-id-9 input.sk-hidden--visually {border: 0;clip: rect(1px 1px 1px 1px);clip: rect(1px, 1px, 1px, 1px);height: 1px;margin: -1px;overflow: hidden;padding: 0;position: absolute;width: 1px;}#sk-container-id-9 div.sk-estimator {font-family: monospace;background-color: #f0f8ff;border: 1px dotted black;border-radius: 0.25em;box-sizing: border-box;margin-bottom: 0.5em;}#sk-container-id-9 div.sk-estimator:hover {background-color: #d4ebff;}#sk-container-id-9 div.sk-parallel-item::after {content: \"\";width: 100%;border-bottom: 1px solid gray;flex-grow: 1;}#sk-container-id-9 div.sk-label:hover label.sk-toggleable__label {background-color: #d4ebff;}#sk-container-id-9 div.sk-serial::before {content: \"\";position: absolute;border-left: 1px solid gray;box-sizing: border-box;top: 0;bottom: 0;left: 50%;z-index: 0;}#sk-container-id-9 div.sk-serial {display: flex;flex-direction: column;align-items: center;background-color: white;padding-right: 0.2em;padding-left: 0.2em;position: relative;}#sk-container-id-9 div.sk-item {position: relative;z-index: 1;}#sk-container-id-9 div.sk-parallel {display: flex;align-items: stretch;justify-content: center;background-color: white;position: relative;}#sk-container-id-9 div.sk-item::before, #sk-container-id-9 div.sk-parallel-item::before {content: \"\";position: absolute;border-left: 1px solid gray;box-sizing: border-box;top: 0;bottom: 0;left: 50%;z-index: -1;}#sk-container-id-9 div.sk-parallel-item {display: flex;flex-direction: column;z-index: 1;position: relative;background-color: white;}#sk-container-id-9 div.sk-parallel-item:first-child::after {align-self: flex-end;width: 50%;}#sk-container-id-9 div.sk-parallel-item:last-child::after {align-self: flex-start;width: 50%;}#sk-container-id-9 div.sk-parallel-item:only-child::after {width: 0;}#sk-container-id-9 div.sk-dashed-wrapped {border: 1px dashed gray;margin: 0 0.4em 0.5em 0.4em;box-sizing: border-box;padding-bottom: 0.4em;background-color: white;}#sk-container-id-9 div.sk-label label {font-family: monospace;font-weight: bold;display: inline-block;line-height: 1.2em;}#sk-container-id-9 div.sk-label-container {text-align: center;}#sk-container-id-9 div.sk-container {/* jupyter's `normalize.less` sets `[hidden] { display: none; }` but bootstrap.min.css set `[hidden] { display: none !important; }` so we also need the `!important` here to be able to override the default hidden behavior on the sphinx rendered scikit-learn.org. See: https://github.com/scikit-learn/scikit-learn/issues/21755 */display: inline-block !important;position: relative;}#sk-container-id-9 div.sk-text-repr-fallback {display: none;}</style><div id=\"sk-container-id-9\" class=\"sk-top-container\"><div class=\"sk-text-repr-fallback\"><pre>RandomizedSearchCV(cv=5, estimator=DecisionTreeClassifier(), n_iter=50,\n",
       "                   n_jobs=-1,\n",
       "                   param_distributions={&#x27;max_depth&#x27;: &lt;scipy.stats._distn_infrastructure.rv_discrete_frozen object at 0x00000161B9705850&gt;,\n",
       "                                        &#x27;min_samples_split&#x27;: &lt;scipy.stats._distn_infrastructure.rv_discrete_frozen object at 0x00000161BA751910&gt;},\n",
       "                   verbose=1)</pre><b>In a Jupyter environment, please rerun this cell to show the HTML representation or trust the notebook. <br />On GitHub, the HTML representation is unable to render, please try loading this page with nbviewer.org.</b></div><div class=\"sk-container\" hidden><div class=\"sk-item sk-dashed-wrapped\"><div class=\"sk-label-container\"><div class=\"sk-label sk-toggleable\"><input class=\"sk-toggleable__control sk-hidden--visually\" id=\"sk-estimator-id-13\" type=\"checkbox\" ><label for=\"sk-estimator-id-13\" class=\"sk-toggleable__label sk-toggleable__label-arrow\">RandomizedSearchCV</label><div class=\"sk-toggleable__content\"><pre>RandomizedSearchCV(cv=5, estimator=DecisionTreeClassifier(), n_iter=50,\n",
       "                   n_jobs=-1,\n",
       "                   param_distributions={&#x27;max_depth&#x27;: &lt;scipy.stats._distn_infrastructure.rv_discrete_frozen object at 0x00000161B9705850&gt;,\n",
       "                                        &#x27;min_samples_split&#x27;: &lt;scipy.stats._distn_infrastructure.rv_discrete_frozen object at 0x00000161BA751910&gt;},\n",
       "                   verbose=1)</pre></div></div></div><div class=\"sk-parallel\"><div class=\"sk-parallel-item\"><div class=\"sk-item\"><div class=\"sk-label-container\"><div class=\"sk-label sk-toggleable\"><input class=\"sk-toggleable__control sk-hidden--visually\" id=\"sk-estimator-id-14\" type=\"checkbox\" ><label for=\"sk-estimator-id-14\" class=\"sk-toggleable__label sk-toggleable__label-arrow\">estimator: DecisionTreeClassifier</label><div class=\"sk-toggleable__content\"><pre>DecisionTreeClassifier()</pre></div></div></div><div class=\"sk-serial\"><div class=\"sk-item\"><div class=\"sk-estimator sk-toggleable\"><input class=\"sk-toggleable__control sk-hidden--visually\" id=\"sk-estimator-id-15\" type=\"checkbox\" ><label for=\"sk-estimator-id-15\" class=\"sk-toggleable__label sk-toggleable__label-arrow\">DecisionTreeClassifier</label><div class=\"sk-toggleable__content\"><pre>DecisionTreeClassifier()</pre></div></div></div></div></div></div></div></div></div></div>"
      ],
      "text/plain": [
       "RandomizedSearchCV(cv=5, estimator=DecisionTreeClassifier(), n_iter=50,\n",
       "                   n_jobs=-1,\n",
       "                   param_distributions={'max_depth': <scipy.stats._distn_infrastructure.rv_discrete_frozen object at 0x00000161B9705850>,\n",
       "                                        'min_samples_split': <scipy.stats._distn_infrastructure.rv_discrete_frozen object at 0x00000161BA751910>},\n",
       "                   verbose=1)"
      ]
     },
     "execution_count": 52,
     "metadata": {},
     "output_type": "execute_result"
    }
   ],
   "source": [
    "# Celda 7\n",
    "# Elección de los parametros\n",
    "from sklearn.model_selection import RandomizedSearchCV\n",
    "from scipy.stats import randint as sp_randint\n",
    "\n",
    "dtc = DecisionTreeClassifier()\n",
    "param_dist = {\n",
    "    \"max_depth\": sp_randint(1, 15),\n",
    "    \"min_samples_split\": sp_randint(1, 15),\n",
    "}\n",
    "n_iter_search = 50\n",
    "random_search = RandomizedSearchCV(\n",
    "    dtc,\n",
    "    param_distributions=param_dist,\n",
    "    n_iter=n_iter_search,\n",
    "    n_jobs=-1,\n",
    "    cv=5,\n",
    "    verbose=1\n",
    ")\n",
    "\n",
    "random_search.fit(X_train, y_train)"
   ]
  },
  {
   "cell_type": "code",
   "execution_count": 53,
   "metadata": {},
   "outputs": [
    {
     "data": {
      "text/plain": [
       "{'max_depth': 1, 'min_samples_split': 14}"
      ]
     },
     "execution_count": 53,
     "metadata": {},
     "output_type": "execute_result"
    }
   ],
   "source": [
    "# X_train, X_test, y_train, y_test \n",
    "random_search.best_params_\n"
   ]
  },
  {
   "cell_type": "code",
   "execution_count": 54,
   "metadata": {},
   "outputs": [],
   "source": [
    "# Creación de 100 muestras de bootstrap\n",
    "n_estimators = 100\n",
    "np.random.seed(123)\n",
    "\n",
    "n_samples = X_train.shape[0]\n",
    "samples = [np.random.choice(a=n_samples, size=n_samples, replace=True) for _ in range(n_estimators)]"
   ]
  },
  {
   "cell_type": "code",
   "execution_count": 77,
   "metadata": {},
   "outputs": [
    {
     "name": "stdout",
     "output_type": "stream",
     "text": [
      "Accuracy: 0.645\n",
      "F1 Score: 0.645\n"
     ]
    }
   ],
   "source": [
    "# 100 árboles de decisión donde max_depth tome un valor de su elección\n",
    "from sklearn.tree import DecisionTreeClassifier\n",
    "from sklearn import metrics\n",
    "\n",
    "np.random.seed(123) \n",
    "seeds = np.random.randint(1, 10000, size=n_estimators)\n",
    "\n",
    "trees1 = {}\n",
    "for i in range(n_estimators):\n",
    "    trees1[i] = DecisionTreeClassifier(max_depth = 1, random_state=seeds[i])\n",
    "    trees1[i].fit(X_train.iloc[samples[i]], y_train.iloc[samples[i]])\n",
    "    \n",
    "# Predicción para los datos del set de test con cada modelo\n",
    "y_pred_df1 = pd.DataFrame(index=X_test.index, columns=list(range(n_estimators)))\n",
    "for i in range(n_estimators):\n",
    "    y_pred_df1.iloc[:, i] = trees1[i].predict(X_test)\n",
    "    \n",
    "# Votación mayoritaria\n",
    "y_pred1 = (y_pred_df1.sum(axis=1) >= (n_estimators / 2)).astype(np.int32)\n",
    "\n",
    "print('Accuracy: %.3f' % metrics.f1_score(y_test, y_pred1))\n",
    "print('F1 Score: %.3f' % metrics.accuracy_score(y_test, y_pred1))"
   ]
  },
  {
   "cell_type": "code",
   "execution_count": 78,
   "metadata": {},
   "outputs": [
    {
     "name": "stdout",
     "output_type": "stream",
     "text": [
      "Accuracy: 0.649\n",
      "F1 Score: 0.647\n"
     ]
    }
   ],
   "source": [
    "# 100 árboles de decisión donde min_samples_leaf tome un valor de su elección\n",
    "trees2 = {}\n",
    "for i in range(n_estimators):\n",
    "    trees2[i] = DecisionTreeClassifier(min_samples_split = 14, random_state=seeds[i])\n",
    "    trees2[i].fit(X_train.iloc[samples[i]], y_train.iloc[samples[i]])\n",
    "    \n",
    "# Predicción para los datos del set de test con cada modelo\n",
    "y_pred_df2 = pd.DataFrame(index=X_test.index, columns=list(range(n_estimators)))\n",
    "for i in range(n_estimators):\n",
    "    y_pred_df2.iloc[:, i] = trees2[i].predict(X_test)\n",
    "    \n",
    "# Votación mayoritaria\n",
    "y_pred2 = (y_pred_df2.sum(axis=1) >= (n_estimators / 2)).astype(np.int32)\n",
    "\n",
    "print('Accuracy: %.3f' % metrics.f1_score(y_test, y_pred2))\n",
    "print('F1 Score: %.3f' % metrics.accuracy_score(y_test, y_pred2))"
   ]
  },
  {
   "cell_type": "code",
   "execution_count": 79,
   "metadata": {
    "scrolled": false
   },
   "outputs": [
    {
     "name": "stdout",
     "output_type": "stream",
     "text": [
      "Accuracy: 0.611\n",
      "F1 Score: 0.617\n"
     ]
    }
   ],
   "source": [
    "# 100 regresiones logísticas\n",
    "trees3 = {}\n",
    "for i in range(n_estimators):\n",
    "    trees3[i] = LogisticRegression(random_state=seeds[i])\n",
    "    trees3[i].fit(X_train.iloc[samples[i]], y_train.iloc[samples[i]])\n",
    "    \n",
    "# Predicción para los datos del set de test con cada modelo\n",
    "y_pred_df3 = pd.DataFrame(index=X_test.index, columns=list(range(n_estimators)))\n",
    "for i in range(n_estimators):\n",
    "    y_pred_df3.iloc[:, i] = trees3[i].predict(X_test)\n",
    "    \n",
    "# Votación mayoritaria\n",
    "y_pred3 = (y_pred_df3.sum(axis=1) >= (n_estimators / 2)).astype(np.int32)\n",
    "\n",
    "print('Accuracy: %.3f' % metrics.f1_score(y_test, y_pred3))\n",
    "print('F1 Score: %.3f' % metrics.accuracy_score(y_test, y_pred3))"
   ]
  },
  {
   "cell_type": "code",
   "execution_count": 80,
   "metadata": {
    "scrolled": true
   },
   "outputs": [
    {
     "name": "stdout",
     "output_type": "stream",
     "text": [
      "Accuracy: 0.624\n",
      "F1 Score: 0.633\n"
     ]
    }
   ],
   "source": [
    "# Ensamble\n",
    "y_pred = ((y_pred_df1.sum(axis=1)+y_pred_df2.sum(axis=1)+y_pred_df3.sum(axis=1)) >= ((n_estimators*3) / 2)).astype(np.int32)\n",
    "print('Accuracy: %.3f' % metrics.f1_score(y_test, y_pred))\n",
    "print('F1 Score: %.3f' % metrics.accuracy_score(y_test, y_pred))"
   ]
  },
  {
   "cell_type": "markdown",
   "metadata": {},
   "source": [
    "### Punto 8 - Votación Ponderada\n",
    "En la celda 8 elabore un ensamble con la metodología de **Votación ponderada** compuesto por 300 muestras bagged para los mismos tres escenarios del punto 7. Evalúe los modelos utilizando las métricas de Accuracy y F1-Score"
   ]
  },
  {
   "cell_type": "code",
   "execution_count": 81,
   "metadata": {},
   "outputs": [],
   "source": [
    "# Celda 8\n",
    "samples_oob = []\n",
    "# Obtención de las observaciones fuera de la bolsa \"out-of-bag\" para cada muestra\n",
    "for sample in samples:\n",
    "    samples_oob.append(sorted(set(range(n_samples)) - set(sample)))\n"
   ]
  },
  {
   "cell_type": "code",
   "execution_count": 84,
   "metadata": {},
   "outputs": [
    {
     "name": "stdout",
     "output_type": "stream",
     "text": [
      "Accuracy: 0.645\n",
      "F1 Score: 0.645\n"
     ]
    }
   ],
   "source": [
    "# 100 árboles de decisión donde max_depth tome un valor de su elección\n",
    "# Estimación de los errores OOB para cada clasificador\n",
    "errors1 = np.zeros(n_estimators)\n",
    "\n",
    "for i in range(n_estimators):\n",
    "    y_pred_1 = trees1[i].predict(X_train.iloc[samples_oob[i]])\n",
    "    errors1[i] = 1 - metrics.accuracy_score(y_train.iloc[samples_oob[i]], y_pred_1)\n",
    "    \n",
    "# Obtención de los pesos alpha de cada modelo de acuerdo al error OOB\n",
    "alpha = (1 - errors1) / (1 - errors1).sum()\n",
    "\n",
    "# Ponderación de las predicciones con los pesos alpha\n",
    "weighted_sum_1 = ((y_pred_df1) * alpha).sum(axis=1)\n",
    "\n",
    "# Desempeño al hacer votación ponderada\n",
    "y_pred4 = (weighted_sum_1 >= 0.5).astype(np.int32)\n",
    "\n",
    "print('Accuracy: %.3f' % metrics.f1_score(y_test, y_pred4))\n",
    "print('F1 Score: %.3f' % metrics.accuracy_score(y_test, y_pred4))"
   ]
  },
  {
   "cell_type": "code",
   "execution_count": 85,
   "metadata": {
    "scrolled": false
   },
   "outputs": [
    {
     "name": "stdout",
     "output_type": "stream",
     "text": [
      "Accuracy: 0.644\n",
      "F1 Score: 0.645\n"
     ]
    }
   ],
   "source": [
    "# 100 árboles de decisión donde min_samples_leaf tome un valor de su elección\n",
    "# Estimación de los errores OOB para cada clasificador\n",
    "errors2 = np.zeros(n_estimators)\n",
    "\n",
    "for i in range(n_estimators):\n",
    "    y_pred_2 = trees2[i].predict(X_train.iloc[samples_oob[i]])\n",
    "    errors2[i] = 1 - metrics.accuracy_score(y_train.iloc[samples_oob[i]], y_pred_2)\n",
    "    \n",
    "# Obtención de los pesos alpha de cada modelo de acuerdo al error OOB\n",
    "alpha = (1 - errors2) / (1 - errors2).sum()\n",
    "\n",
    "# Ponderación de las predicciones con los pesos alpha\n",
    "weighted_sum_2 = ((y_pred_df2) * alpha).sum(axis=1)\n",
    "\n",
    "# Desempeño al hacer votación ponderada\n",
    "y_pred5 = (weighted_sum_2 >= 0.5).astype(np.int32)\n",
    "\n",
    "print('Accuracy: %.3f' % metrics.f1_score(y_test, y_pred5))\n",
    "print('F1 Score: %.3f' % metrics.accuracy_score(y_test, y_pred5))"
   ]
  },
  {
   "cell_type": "code",
   "execution_count": 89,
   "metadata": {},
   "outputs": [
    {
     "name": "stdout",
     "output_type": "stream",
     "text": [
      "Accuracy: 0.611\n",
      "F1 Score: 0.617\n"
     ]
    }
   ],
   "source": [
    "# 100 regresiones logísticas\n",
    "# Estimación de los errores OOB para cada clasificador\n",
    "errors3 = np.zeros(n_estimators)\n",
    "\n",
    "for i in range(n_estimators):\n",
    "    y_pred_3 = trees3[i].predict(X_train.iloc[samples_oob[i]])\n",
    "    errors3[i] = 1 - metrics.accuracy_score(y_train.iloc[samples_oob[i]], y_pred_3)\n",
    "    \n",
    "# Obtención de los pesos alpha de cada modelo de acuerdo al error OOB\n",
    "alpha = (1 - errors3) / (1 - errors3).sum()\n",
    "\n",
    "# Ponderación de las predicciones con los pesos alpha\n",
    "weighted_sum_3 = ((y_pred_df3) * alpha).sum(axis=1)\n",
    "\n",
    "# Desempeño al hacer votación ponderada\n",
    "y_pred6 = (weighted_sum_3 >= 0.5).astype(np.int32)\n",
    "\n",
    "print('Accuracy: %.3f' % metrics.f1_score(y_test, y_pred6))\n",
    "print('F1 Score: %.3f' % metrics.accuracy_score(y_test, y_pred6))"
   ]
  },
  {
   "cell_type": "code",
   "execution_count": 88,
   "metadata": {},
   "outputs": [
    {
     "name": "stdout",
     "output_type": "stream",
     "text": [
      "Accuracy: 0.624\n",
      "F1 Score: 0.633\n"
     ]
    }
   ],
   "source": [
    "#Ensamble\n",
    "y_pred = ((weighted_sum_1+weighted_sum_2+weighted_sum_3) >= 1.5).astype(np.int32)\n",
    "print('Accuracy: %.3f' % metrics.f1_score(y_test, y_pred))\n",
    "print('F1 Score: %.3f' % metrics.accuracy_score(y_test, y_pred))"
   ]
  },
  {
   "cell_type": "markdown",
   "metadata": {},
   "source": [
    "### Punto 9 - Comparación y análisis de resultados\n",
    "En la celda 9 comente sobre los resultados obtenidos con las metodologías usadas en los puntos 7 y 8, compare los resultados y enuncie posibles ventajas o desventajas de cada una de ellas."
   ]
  },
  {
   "cell_type": "markdown",
   "metadata": {},
   "source": [
    "- Votación mayoritaria\n",
    "\n",
    "1er modelo:\n",
    "Accuracy: 0.645\n",
    "F1 Score: 0.645\n",
    "\n",
    "\n",
    "2do modelo\n",
    "Accuracy: 0.649\n",
    "F1 Score: 0.647\n",
    "\n",
    "\n",
    "3er modelo\n",
    "Accuracy: 0.611\n",
    "F1 Score: 0.617\n",
    "\n",
    "\n",
    "Ensamble de los 3 modelos\n",
    "Accuracy: 0.624\n",
    "F1 Score: 0.633\n",
    "\n",
    "- Votacion ponderada\n",
    "\n",
    "1er modelo:\n",
    "Accuracy: 0.645\n",
    "F1 Score: 0.645\n",
    "\n",
    "\n",
    "2do modelo\n",
    "Accuracy: 0.644\n",
    "F1 Score: 0.645\n",
    "\n",
    "\n",
    "3er modelo\n",
    "Accuracy: 0.611\n",
    "F1 Score: 0.617\n",
    "\n",
    "\n",
    "Ensamble de los 3 modelos\n",
    "Accuracy: 0.624\n",
    "F1 Score: 0.633"
   ]
  },
  {
   "cell_type": "markdown",
   "metadata": {},
   "source": [
    "- Los modelos presentaron rendimientos similares y hasta identicos para las diferente metodologías.\n",
    "- El modelo que mejor performance obtuvo fu el de 100 árboles de decisión con el parametro min_samples_split = 14\n",
    "- Ambas metodologías se vieron afectdas al intervenir en la votación un modelo con menor rendimiento"
   ]
  }
 ],
 "metadata": {
  "kernelspec": {
   "display_name": "Python 3 (ipykernel)",
   "language": "python",
   "name": "python3"
  },
  "language_info": {
   "codemirror_mode": {
    "name": "ipython",
    "version": 3
   },
   "file_extension": ".py",
   "mimetype": "text/x-python",
   "name": "python",
   "nbconvert_exporter": "python",
   "pygments_lexer": "ipython3",
   "version": "3.9.16"
  }
 },
 "nbformat": 4,
 "nbformat_minor": 4
}
